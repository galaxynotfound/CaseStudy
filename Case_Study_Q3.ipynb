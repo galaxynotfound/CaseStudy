{
  "nbformat": 4,
  "nbformat_minor": 0,
  "metadata": {
    "colab": {
      "name": "Case Study Q3",
      "provenance": []
    },
    "kernelspec": {
      "name": "python3",
      "display_name": "Python 3"
    },
    "language_info": {
      "name": "python"
    }
  },
  "cells": [
    {
      "cell_type": "markdown",
      "source": [
        "### Environment Setting"
      ],
      "metadata": {
        "id": "PldeWmcnQxBr"
      }
    },
    {
      "cell_type": "code",
      "execution_count": 1,
      "metadata": {
        "colab": {
          "base_uri": "https://localhost:8080/"
        },
        "id": "w7qL5gXoQsHL",
        "outputId": "4b343391-78ca-443d-f325-e387ed6536ae"
      },
      "outputs": [
        {
          "output_type": "stream",
          "name": "stdout",
          "text": [
            "Collecting websocket-client\n",
            "  Downloading websocket_client-1.2.3-py3-none-any.whl (53 kB)\n",
            "\u001b[?25l\r\u001b[K     |██████▏                         | 10 kB 17.0 MB/s eta 0:00:01\r\u001b[K     |████████████▎                   | 20 kB 8.0 MB/s eta 0:00:01\r\u001b[K     |██████████████████▍             | 30 kB 7.0 MB/s eta 0:00:01\r\u001b[K     |████████████████████████▌       | 40 kB 6.4 MB/s eta 0:00:01\r\u001b[K     |██████████████████████████████▋ | 51 kB 4.0 MB/s eta 0:00:01\r\u001b[K     |████████████████████████████████| 53 kB 756 kB/s \n",
            "\u001b[?25hInstalling collected packages: websocket-client\n",
            "Successfully installed websocket-client-1.2.3\n",
            "Collecting finnhub-python\n",
            "  Downloading finnhub_python-2.4.8-py3-none-any.whl (10 kB)\n",
            "Requirement already satisfied: requests>=2.22.0 in /usr/local/lib/python3.7/dist-packages (from finnhub-python) (2.23.0)\n",
            "Requirement already satisfied: certifi>=2017.4.17 in /usr/local/lib/python3.7/dist-packages (from requests>=2.22.0->finnhub-python) (2021.10.8)\n",
            "Requirement already satisfied: idna<3,>=2.5 in /usr/local/lib/python3.7/dist-packages (from requests>=2.22.0->finnhub-python) (2.10)\n",
            "Requirement already satisfied: chardet<4,>=3.0.2 in /usr/local/lib/python3.7/dist-packages (from requests>=2.22.0->finnhub-python) (3.0.4)\n",
            "Requirement already satisfied: urllib3!=1.25.0,!=1.25.1,<1.26,>=1.21.1 in /usr/local/lib/python3.7/dist-packages (from requests>=2.22.0->finnhub-python) (1.24.3)\n",
            "Installing collected packages: finnhub-python\n",
            "Successfully installed finnhub-python-2.4.8\n"
          ]
        }
      ],
      "source": [
        "%pip install websocket-client\n",
        "%pip install finnhub-python"
      ]
    },
    {
      "cell_type": "code",
      "source": [
        "import requests\n",
        "import websocket\n",
        "import multiprocessing\n",
        "import datetime\n",
        "import time\n",
        "import pandas as pd\n",
        "import json\n",
        "\n",
        "apikey1 = \"6O301F2DIJ4X1B5K\"\n",
        "apikey2 = \"c7maqfiad3id8p04dgb0\""
      ],
      "metadata": {
        "id": "mGlZaonCQxn6"
      },
      "execution_count": 2,
      "outputs": []
    },
    {
      "cell_type": "markdown",
      "source": [
        "## Trading Server & Client Thread\n",
        "\n",
        "\n",
        "This thread will obtain data from these two sources and stitch the data appropriately. From these two sources, you should be able to build a consistent intraday price series.\n",
        "\n",
        "< Source 1 >\n",
        "    \n",
        "    Alpha Vantage API: Realtime and historical US stock prices.\n",
        "    API documentation here: https://www.alphavantage.co/documentation/\n",
        "    Keep in mind that the free version of this API contains a max of 5 calls/min or 500 calls/day\n",
        "\n",
        "< Source 2 >\n",
        "    \n",
        "    Finhub API: https://finnhub.io/\n",
        "    API documentation here: https://finnhub.io/docs/api\n",
        "    We will be using this api to gather real time quotes, that will be the quote request on the documentation.\n",
        "    The t on the response is timestamp for the prices\n"
      ],
      "metadata": {
        "id": "ijEsPyO_Q2hT"
      }
    },
    {
      "cell_type": "code",
      "source": [
        "class ServerThread():\n",
        "\n",
        "    def __init__(self):\n",
        "        self.tickers = ['AAPL'] #by default\n",
        "        self.interval = 5 #min\n",
        "        self.saved = {} #flag for only save one time\n",
        "        self.dfHistory = pd.DataFrame()\n",
        "\n",
        "\n",
        "    #Source 1\n",
        "    def getHistoryData(self, tickers, interval=5, outputsize=\"full\"):\n",
        "        data = []\n",
        "        time.sleep(60)\n",
        "        for ticker in tickers:\n",
        "            url = f'https://www.alphavantage.co/query?function=TIME_SERIES_INTRADAY&symbol={ticker}&outputsize={outputsize}&interval={interval}min&apikey={apikey1}'\n",
        "            r = requests.get(url)\n",
        "            data.append(r.json())\n",
        "        return data\n",
        "\n",
        "    #Source 2\n",
        "    def getRealtimeData(self, tickers, interval=5, timeout=100):\n",
        "        \n",
        "        def on_message(ws, message):\n",
        "            data.extend(json.loads(message)['data'])\n",
        "\n",
        "        def on_error(ws, error):\n",
        "            print(error)\n",
        "\n",
        "        def on_close(ws):\n",
        "            print(\"### closed ###\")\n",
        "\n",
        "        def on_open(ws):\n",
        "            for ticker in tickers:\n",
        "                message = '{'+f'\"type\":\"subscribe\",\"symbol\":\\\"{ticker}\\\"'+'}'\n",
        "                ws.send(message)\n",
        "\n",
        "        data = []\n",
        "        websocket.enableTrace(True)\n",
        "        ws = websocket.WebSocketApp(f\"wss://ws.finnhub.io?token={apikey2}\",\n",
        "                                on_message = on_message,\n",
        "                                on_error = on_error,\n",
        "                                on_close = on_close)\n",
        "        ws.on_open = on_open\n",
        "        ws.run_forever(ping_interval=interval*60, ping_timeout=timeout)\n",
        "        ws.close()\n",
        "        ws.on_close = on_close \n",
        "        return data        \n",
        "\n",
        "\n",
        "    def processHistoryData(self):\n",
        "        historyData = self.getHistoryData(self.tickers, self.interval)\n",
        "        \n",
        "        columns = ['open','high','low','close','volume']\n",
        "        if(len(historyData)<=0):\n",
        "            print(f\"Error: unable to retrieve data\")\n",
        "            return -1\n",
        "\n",
        "        \n",
        "        for data in historyData:\n",
        "            print(data.keys())\n",
        "            try:\n",
        "                df = pd.DataFrame.from_dict(list(data[f'Time Series ({self.interval}min)'].items()))\n",
        "                df.columns = ['datetime', \"data\"]\n",
        "                df[columns] = df['data'].apply(pd.Series)\n",
        "                df = df.drop('data', axis=1)\n",
        "                df['ticker'] = data['Meta Data']['2. Symbol']\n",
        "                df['price'] = df['close']\n",
        "                df['datetime'] = df['datetime'].apply(lambda x: datetime.datetime.strptime(x, '%Y-%m-%d %H:%M:%S'))\n",
        "                self.dfHistory = pd.concat([self.dfHistory, df])\n",
        "            except:\n",
        "                print(f\"Error: unable to retrieve data with error message {data.values()}\\n\")\n",
        "                return -1\n",
        "        self.dfHistory.sort_values(by=['datetime'], inplace=True)\n",
        "        for col in columns:\n",
        "            self.dfHistory[col] = self.dfHistory[col].apply(lambda x: float(x))\n",
        "        self.dfHistory['price'] = self.dfHistory['price'].apply(lambda x: float(x))\n",
        "        \n",
        "        print(self.dfHistory.head())\n",
        "\n",
        "\n",
        "      # commented out since there is no realtime data over weekend, cannot get anything \n",
        "      #also need to figure out a way to stop the socket form quering forever \n",
        "    def processRealtimeData(self):\n",
        "\n",
        "        #data = self.getRealtimeData(self.tickers, self.interval)\n",
        "        #self.dfRealtime = pd.DataFrame.from_records(data)\n",
        "\n",
        "        #self.dfRealtime[\"datetime\"] = self.dfRealtime['t'].apply(lambda x: datetime.datetime.fromtimestamp(x/1000.0))\n",
        "        #self.dfRealtime = self.dfRealtime.rename(columns={\"p\":\"price\", \"s\":\"ticker\", \"v\":\"volume\"})\n",
        "        #print(self.dfRealtime.head())\n",
        "        return\n",
        "\n",
        "\n",
        "    def calcStrategyPnL(self, strategy=\"trend\"):\n",
        "        self.dfHistory.index = self.dfHistory['datetime']\n",
        "        self.dfHistory['price_avg'] = self.dfHistory['close'].rolling('24h').mean()\n",
        "        self.dfHistory['price_std'] = self.dfHistory['close'].rolling('24h').std()\n",
        "        self.dfHistory.fillna(0, inplace=True)\n",
        "        self.dfHistory['position'] = 0\n",
        "        self.dfHistory['long_signal'] = (self.dfHistory.shift()['price'] - self.dfHistory.shift()['price_avg'] - self.dfHistory.shift()['price_std']) > 0\n",
        "        self.dfHistory['short_signal'] = (self.dfHistory.shift()['price'] - self.dfHistory.shift()['price_avg'] + self.dfHistory.shift()['price_std']) < 0\n",
        "        self.dfHistory.head()\n",
        "\n",
        "        action = 1 if strategy==\"trend\" else -1\n",
        "\n",
        "        self.dfHistory.loc[self.dfHistory['long_signal']==True, 'position'] = action\n",
        "        self.dfHistory.loc[self.dfHistory['short_signal']==True, 'position'] = (-1)*action\n",
        "        self.dfHistory['position'].fillna(0,inplace=True)\n",
        "        self.dfHistory['signal'] = self.dfHistory['position'].replace(to_replace=0, method='ffill')\n",
        "\n",
        "        self.dfHistory['pnl'] = self.dfHistory['signal'].shift()*self.dfHistory['price'].pct_change()\n",
        "        self.dfHistory['pnl'].fillna(0, inplace = True)\n",
        "        PnL = self.dfHistory['pnl'].sum()\n",
        "\n",
        "        tickers = list(self.dfHistory['ticker'].unique())\n",
        "\n",
        "        for ticker in tickers:\n",
        "            if not self.saved.get(ticker, False): \n",
        "                self.dfHistory[['ticker','price', 'signal','pnl']][self.dfHistory['ticker']==ticker].to_csv(f'{ticker}_result.csv')\n",
        "                self.dfHistory[['ticker','price']][self.dfHistory['ticker']==ticker].to_csv(f'{ticker}_price.csv')\n",
        "                self.saved[ticker] = True\n",
        "        \n",
        "        print(f\"Strategy {strategy} yields PnL {PnL}\")\n",
        "        return PnL\n",
        "\n",
        "    \n",
        "    def processServerQuery(self, query):\n",
        "        token = query.split(\" \")\n",
        "        if len(token)<=0: \n",
        "            print(\"invalid query, please type again\")\n",
        "            return -1\n",
        "        print(token)\n",
        "        if(token[0]==\"--tickers\"):\n",
        "            if(len(token)>1): #=1 already init as ['AAPL']\n",
        "                print(f\"download new tickers {token[1]}\")\n",
        "                tickers = token[1].split(\", \")\n",
        "                if not self.checkTickerValid(tickers): \n",
        "                    print(\"Error: invalid ticker, please re-specify\\n\")\n",
        "                    return -1\n",
        "                if(len(tickers)>3):\n",
        "                    print(\"currently max support 3 tickers, please re-specify\\n\")\n",
        "                    return -1\n",
        "                self.tickers = tickers\n",
        "            if self.processHistoryData()==-1 or self.processRealtimeData()==-1: return -1\n",
        "            return self.calcStrategyPnL()\n",
        "\n",
        "        elif(token[0]==\"--reload\"):\n",
        "            path = token[1]\n",
        "            if path[-3:]!=\"csv\":\n",
        "                print(\"Error: currently only supports csv file, please re-specify\\n\")\n",
        "                return -1\n",
        "            self.dfHistory = pd.read_csv(path, parse_dates=[\"datetime\"])\n",
        "        \n",
        "        elif(token[0]==\"--minutes\"):\n",
        "            print(\"change interval minutes\")\n",
        "            if(not token[1].isdigit()):\n",
        "                print(\"Error: currently only supports intervals in [5, 10, 30, 69], please re-specify\\n\")\n",
        "                return -1\n",
        "            interval = int(token[1])\n",
        "            self.interval = interval\n",
        "    \n",
        "    def processClientQuery(self, query):\n",
        "        token = query.split(\" \")\n",
        "        \n",
        "        if len(token)<=0: \n",
        "            print(\"invalid query, please type again\")\n",
        "            return\n",
        "\n",
        "        date = \"\"\n",
        "        if(token[0]==\"--price\" or token[0]==\"--signal\"):\n",
        "            if(len(token)<=1):\n",
        "                print(\"Error: invalid date time, please re-specify\\n\")\n",
        "            if token[1]==\"now\":\n",
        "                date = datetime.datetime.today()\n",
        "                return self.queryData(token[0], date)\n",
        "            date = datetime.datetime.strptime(str(token[1]), \"%Y-%m-%d-%H:%M\")\n",
        "            return self.queryData(token[0], date)\n",
        "            \n",
        "        elif(token[0]==\"--del_ticker\"):\n",
        "            if(len(token)<=1): print(\"Error: invalid ticker, please re-specify\\n\")\n",
        "            return self.delTicker(token[1])\n",
        "\n",
        "        elif(token[0]==\"--add_ticker\"):\n",
        "            if(len(token)<=1): print(\"Error: invalid ticker, please re-specify\\n\")\n",
        "            return self.addTicker(token[1])\n",
        "        \n",
        "        elif(token[0]==\"--reset\"):\n",
        "            return self.resetServer()\n",
        "\n",
        "    def queryData(self, column, date):\n",
        "        column = column[2:]\n",
        "        if column!=\"price\" and column!=\"signal\":\n",
        "            print(\"Error: invalid query, must be price or signal\")\n",
        "            return -1\n",
        "        df = self.dfHistory.copy()\n",
        "        date_str = datetime.datetime.strftime(date, \"%Y-%m-%d-%H:%M\")\n",
        "        df[\"datetime_str\"] = df[\"datetime\"].apply(lambda x: datetime.datetime.strftime(x, \"%Y-%m-%d-%H:%M\"))\n",
        "        data = df[df['datetime_str']==date_str][[\"ticker\",column]]\n",
        "        if data.shape[0]==0: return \"Server has no data\"\n",
        "        return data\n",
        "\n",
        "    def checkTickerValid(self, tickers):\n",
        "        for ticker in tickers:\n",
        "            outputsize = \"compact\"\n",
        "            historyData = self.getHistoryData(ticker, self.interval, outputsize)\n",
        "            if(len(historyData)<=0 or 'Error Message' in historyData[0].keys()): #invalid ticker\n",
        "                return False\n",
        "        return True\n",
        "\n",
        "    def addTicker(self, ticker):\n",
        "        if ticker in self.tickers: return 0\n",
        "        if not self.checkTickerValid(ticker): return 2\n",
        "        print(f\"start to download data for new ticker {ticker}\")\n",
        "        if(self.processServerQuery(f\"--tickers {ticker}\")==-1): return 1 #server error\n",
        "        return 0\n",
        "            \n",
        "    def delTicker(self, ticker):\n",
        "        if ticker not in self.tickers:\n",
        "            return 2\n",
        "        try:\n",
        "            self.tickers.remove(ticker)\n",
        "            return 0\n",
        "        except:\n",
        "            return 1 #server error\n",
        "\n",
        "    def resetServer(self):\n",
        "        self.saved = {} #re-download all the data\n",
        "        \n",
        "        if self.processHistoryData()==-1 or self.processRealtimeData()==-1: return -1\n",
        "        self.calcStrategyPnL()\n",
        "        return 0\n",
        "\n",
        "    def getServerTickers(self):\n",
        "         return self.tickers"
      ],
      "metadata": {
        "id": "6j3tLrwIQ07a"
      },
      "execution_count": 3,
      "outputs": []
    },
    {
      "cell_type": "markdown",
      "source": [
        "### Server Tests\n",
        "\n",
        "Test server queries, strategy PnL calc etc."
      ],
      "metadata": {
        "id": "HNWTJuknQ8oS"
      }
    },
    {
      "cell_type": "code",
      "source": [
        "server = ServerThread()"
      ],
      "metadata": {
        "id": "Wg1v6aiZQ3Ca"
      },
      "execution_count": 4,
      "outputs": []
    },
    {
      "cell_type": "code",
      "source": [
        "#query = input(\"Please specify your query, supported command include \\\"--tickers, --reload, --minutes\\\"\\n\")\n",
        "query = \"--tickers AAPL\"\n",
        "server.processServerQuery(query)"
      ],
      "metadata": {
        "colab": {
          "base_uri": "https://localhost:8080/"
        },
        "id": "n4GUU7pFQ-Z7",
        "outputId": "b1375a2c-8d25-4f89-9d18-70ec498ffdca"
      },
      "execution_count": 5,
      "outputs": [
        {
          "output_type": "stream",
          "name": "stdout",
          "text": [
            "['--tickers', 'AAPL']\n",
            "download new tickers AAPL\n",
            "dict_keys(['Meta Data', 'Time Series (5min)'])\n",
            "                datetime    open    high  ...   volume  ticker   price\n",
            "3571 2021-12-27 04:05:00  176.40  176.41  ...   7112.0    AAPL  176.38\n",
            "3570 2021-12-27 04:10:00  176.28  176.32  ...  10249.0    AAPL  176.32\n",
            "3569 2021-12-27 04:15:00  176.28  176.28  ...   7903.0    AAPL  176.17\n",
            "3568 2021-12-27 04:20:00  176.01  176.01  ...   1245.0    AAPL  176.01\n",
            "3567 2021-12-27 04:25:00  175.93  175.93  ...   1198.0    AAPL  175.91\n",
            "\n",
            "[5 rows x 8 columns]\n",
            "Strategy trend yields PnL -0.048182392332353885\n"
          ]
        },
        {
          "output_type": "execute_result",
          "data": {
            "text/plain": [
              "-0.048182392332353885"
            ]
          },
          "metadata": {},
          "execution_count": 5
        }
      ]
    },
    {
      "cell_type": "code",
      "source": [
        "PnL1 = server.calcStrategyPnL(\"trend\")\n",
        "PnL2 = server.calcStrategyPnL(\"meanrev\")\n",
        "print(PnL1, PnL2)"
      ],
      "metadata": {
        "colab": {
          "base_uri": "https://localhost:8080/"
        },
        "id": "N4eLEyMvQ_vK",
        "outputId": "6006f16b-2afd-4018-b583-b201340af46b"
      },
      "execution_count": 6,
      "outputs": [
        {
          "output_type": "stream",
          "name": "stdout",
          "text": [
            "Strategy trend yields PnL -0.048182392332353885\n",
            "Strategy meanrev yields PnL 0.048182392332353885\n",
            "-0.048182392332353885 0.048182392332353885\n"
          ]
        }
      ]
    },
    {
      "cell_type": "markdown",
      "source": [
        "### Client Tests"
      ],
      "metadata": {
        "id": "vVT8KTlQRC9j"
      }
    },
    {
      "cell_type": "code",
      "source": [
        "server = ServerThread()"
      ],
      "metadata": {
        "id": "FmSaqBHWRBLK"
      },
      "execution_count": 7,
      "outputs": []
    },
    {
      "cell_type": "code",
      "source": [
        "#query = input(\"please type in your query: \")\n",
        "server.getServerTickers()\n",
        "\n",
        "query = \"--del_ticker NFLX\"\n",
        "server.processClientQuery(query)\n",
        "server.getServerTickers()"
      ],
      "metadata": {
        "colab": {
          "base_uri": "https://localhost:8080/"
        },
        "id": "r9zD5OTWRFEa",
        "outputId": "c881cdf4-dc45-4509-9d72-4acdfc1a3ea7"
      },
      "execution_count": 8,
      "outputs": [
        {
          "output_type": "execute_result",
          "data": {
            "text/plain": [
              "['AAPL']"
            ]
          },
          "metadata": {},
          "execution_count": 8
        }
      ]
    },
    {
      "cell_type": "code",
      "source": [
        "query = \"--reload AAPL_result.csv\"\n",
        "server.processServerQuery(query)"
      ],
      "metadata": {
        "colab": {
          "base_uri": "https://localhost:8080/"
        },
        "id": "gQHUGvhdRGT8",
        "outputId": "14921b5f-42cf-4424-b595-9a317b2ebe7a"
      },
      "execution_count": 9,
      "outputs": [
        {
          "output_type": "stream",
          "name": "stdout",
          "text": [
            "['--reload', 'AAPL_result.csv']\n"
          ]
        }
      ]
    },
    {
      "cell_type": "code",
      "source": [
        "\n",
        "query = \"--signal 2021-12-27-04:45\"\n",
        "server.processClientQuery(query)"
      ],
      "metadata": {
        "colab": {
          "base_uri": "https://localhost:8080/",
          "height": 81
        },
        "id": "EWImRUMGRIDr",
        "outputId": "fead942e-6dfb-484a-f05c-71077a890d23"
      },
      "execution_count": 10,
      "outputs": [
        {
          "output_type": "execute_result",
          "data": {
            "text/html": [
              "\n",
              "  <div id=\"df-2ce5a4a5-963b-4a46-938e-b1dc851794a9\">\n",
              "    <div class=\"colab-df-container\">\n",
              "      <div>\n",
              "<style scoped>\n",
              "    .dataframe tbody tr th:only-of-type {\n",
              "        vertical-align: middle;\n",
              "    }\n",
              "\n",
              "    .dataframe tbody tr th {\n",
              "        vertical-align: top;\n",
              "    }\n",
              "\n",
              "    .dataframe thead th {\n",
              "        text-align: right;\n",
              "    }\n",
              "</style>\n",
              "<table border=\"1\" class=\"dataframe\">\n",
              "  <thead>\n",
              "    <tr style=\"text-align: right;\">\n",
              "      <th></th>\n",
              "      <th>ticker</th>\n",
              "      <th>signal</th>\n",
              "    </tr>\n",
              "  </thead>\n",
              "  <tbody>\n",
              "    <tr>\n",
              "      <th>8</th>\n",
              "      <td>AAPL</td>\n",
              "      <td>-1</td>\n",
              "    </tr>\n",
              "  </tbody>\n",
              "</table>\n",
              "</div>\n",
              "      <button class=\"colab-df-convert\" onclick=\"convertToInteractive('df-2ce5a4a5-963b-4a46-938e-b1dc851794a9')\"\n",
              "              title=\"Convert this dataframe to an interactive table.\"\n",
              "              style=\"display:none;\">\n",
              "        \n",
              "  <svg xmlns=\"http://www.w3.org/2000/svg\" height=\"24px\"viewBox=\"0 0 24 24\"\n",
              "       width=\"24px\">\n",
              "    <path d=\"M0 0h24v24H0V0z\" fill=\"none\"/>\n",
              "    <path d=\"M18.56 5.44l.94 2.06.94-2.06 2.06-.94-2.06-.94-.94-2.06-.94 2.06-2.06.94zm-11 1L8.5 8.5l.94-2.06 2.06-.94-2.06-.94L8.5 2.5l-.94 2.06-2.06.94zm10 10l.94 2.06.94-2.06 2.06-.94-2.06-.94-.94-2.06-.94 2.06-2.06.94z\"/><path d=\"M17.41 7.96l-1.37-1.37c-.4-.4-.92-.59-1.43-.59-.52 0-1.04.2-1.43.59L10.3 9.45l-7.72 7.72c-.78.78-.78 2.05 0 2.83L4 21.41c.39.39.9.59 1.41.59.51 0 1.02-.2 1.41-.59l7.78-7.78 2.81-2.81c.8-.78.8-2.07 0-2.86zM5.41 20L4 18.59l7.72-7.72 1.47 1.35L5.41 20z\"/>\n",
              "  </svg>\n",
              "      </button>\n",
              "      \n",
              "  <style>\n",
              "    .colab-df-container {\n",
              "      display:flex;\n",
              "      flex-wrap:wrap;\n",
              "      gap: 12px;\n",
              "    }\n",
              "\n",
              "    .colab-df-convert {\n",
              "      background-color: #E8F0FE;\n",
              "      border: none;\n",
              "      border-radius: 50%;\n",
              "      cursor: pointer;\n",
              "      display: none;\n",
              "      fill: #1967D2;\n",
              "      height: 32px;\n",
              "      padding: 0 0 0 0;\n",
              "      width: 32px;\n",
              "    }\n",
              "\n",
              "    .colab-df-convert:hover {\n",
              "      background-color: #E2EBFA;\n",
              "      box-shadow: 0px 1px 2px rgba(60, 64, 67, 0.3), 0px 1px 3px 1px rgba(60, 64, 67, 0.15);\n",
              "      fill: #174EA6;\n",
              "    }\n",
              "\n",
              "    [theme=dark] .colab-df-convert {\n",
              "      background-color: #3B4455;\n",
              "      fill: #D2E3FC;\n",
              "    }\n",
              "\n",
              "    [theme=dark] .colab-df-convert:hover {\n",
              "      background-color: #434B5C;\n",
              "      box-shadow: 0px 1px 3px 1px rgba(0, 0, 0, 0.15);\n",
              "      filter: drop-shadow(0px 1px 2px rgba(0, 0, 0, 0.3));\n",
              "      fill: #FFFFFF;\n",
              "    }\n",
              "  </style>\n",
              "\n",
              "      <script>\n",
              "        const buttonEl =\n",
              "          document.querySelector('#df-2ce5a4a5-963b-4a46-938e-b1dc851794a9 button.colab-df-convert');\n",
              "        buttonEl.style.display =\n",
              "          google.colab.kernel.accessAllowed ? 'block' : 'none';\n",
              "\n",
              "        async function convertToInteractive(key) {\n",
              "          const element = document.querySelector('#df-2ce5a4a5-963b-4a46-938e-b1dc851794a9');\n",
              "          const dataTable =\n",
              "            await google.colab.kernel.invokeFunction('convertToInteractive',\n",
              "                                                     [key], {});\n",
              "          if (!dataTable) return;\n",
              "\n",
              "          const docLinkHtml = 'Like what you see? Visit the ' +\n",
              "            '<a target=\"_blank\" href=https://colab.research.google.com/notebooks/data_table.ipynb>data table notebook</a>'\n",
              "            + ' to learn more about interactive tables.';\n",
              "          element.innerHTML = '';\n",
              "          dataTable['output_type'] = 'display_data';\n",
              "          await google.colab.output.renderOutput(dataTable, element);\n",
              "          const docLink = document.createElement('div');\n",
              "          docLink.innerHTML = docLinkHtml;\n",
              "          element.appendChild(docLink);\n",
              "        }\n",
              "      </script>\n",
              "    </div>\n",
              "  </div>\n",
              "  "
            ],
            "text/plain": [
              "  ticker  signal\n",
              "8   AAPL      -1"
            ]
          },
          "metadata": {},
          "execution_count": 10
        }
      ]
    },
    {
      "cell_type": "code",
      "source": [
        "query = \"--price 2021-12-27-04:20\"\n",
        "server.processClientQuery(query)"
      ],
      "metadata": {
        "colab": {
          "base_uri": "https://localhost:8080/",
          "height": 81
        },
        "id": "3HJbGBThRJi7",
        "outputId": "4809e8cf-6f7e-4111-8654-b14867ab5df6"
      },
      "execution_count": 11,
      "outputs": [
        {
          "output_type": "execute_result",
          "data": {
            "text/html": [
              "\n",
              "  <div id=\"df-31beffa4-a3ad-455f-99f5-a5c9d84c1070\">\n",
              "    <div class=\"colab-df-container\">\n",
              "      <div>\n",
              "<style scoped>\n",
              "    .dataframe tbody tr th:only-of-type {\n",
              "        vertical-align: middle;\n",
              "    }\n",
              "\n",
              "    .dataframe tbody tr th {\n",
              "        vertical-align: top;\n",
              "    }\n",
              "\n",
              "    .dataframe thead th {\n",
              "        text-align: right;\n",
              "    }\n",
              "</style>\n",
              "<table border=\"1\" class=\"dataframe\">\n",
              "  <thead>\n",
              "    <tr style=\"text-align: right;\">\n",
              "      <th></th>\n",
              "      <th>ticker</th>\n",
              "      <th>price</th>\n",
              "    </tr>\n",
              "  </thead>\n",
              "  <tbody>\n",
              "    <tr>\n",
              "      <th>3</th>\n",
              "      <td>AAPL</td>\n",
              "      <td>176.01</td>\n",
              "    </tr>\n",
              "  </tbody>\n",
              "</table>\n",
              "</div>\n",
              "      <button class=\"colab-df-convert\" onclick=\"convertToInteractive('df-31beffa4-a3ad-455f-99f5-a5c9d84c1070')\"\n",
              "              title=\"Convert this dataframe to an interactive table.\"\n",
              "              style=\"display:none;\">\n",
              "        \n",
              "  <svg xmlns=\"http://www.w3.org/2000/svg\" height=\"24px\"viewBox=\"0 0 24 24\"\n",
              "       width=\"24px\">\n",
              "    <path d=\"M0 0h24v24H0V0z\" fill=\"none\"/>\n",
              "    <path d=\"M18.56 5.44l.94 2.06.94-2.06 2.06-.94-2.06-.94-.94-2.06-.94 2.06-2.06.94zm-11 1L8.5 8.5l.94-2.06 2.06-.94-2.06-.94L8.5 2.5l-.94 2.06-2.06.94zm10 10l.94 2.06.94-2.06 2.06-.94-2.06-.94-.94-2.06-.94 2.06-2.06.94z\"/><path d=\"M17.41 7.96l-1.37-1.37c-.4-.4-.92-.59-1.43-.59-.52 0-1.04.2-1.43.59L10.3 9.45l-7.72 7.72c-.78.78-.78 2.05 0 2.83L4 21.41c.39.39.9.59 1.41.59.51 0 1.02-.2 1.41-.59l7.78-7.78 2.81-2.81c.8-.78.8-2.07 0-2.86zM5.41 20L4 18.59l7.72-7.72 1.47 1.35L5.41 20z\"/>\n",
              "  </svg>\n",
              "      </button>\n",
              "      \n",
              "  <style>\n",
              "    .colab-df-container {\n",
              "      display:flex;\n",
              "      flex-wrap:wrap;\n",
              "      gap: 12px;\n",
              "    }\n",
              "\n",
              "    .colab-df-convert {\n",
              "      background-color: #E8F0FE;\n",
              "      border: none;\n",
              "      border-radius: 50%;\n",
              "      cursor: pointer;\n",
              "      display: none;\n",
              "      fill: #1967D2;\n",
              "      height: 32px;\n",
              "      padding: 0 0 0 0;\n",
              "      width: 32px;\n",
              "    }\n",
              "\n",
              "    .colab-df-convert:hover {\n",
              "      background-color: #E2EBFA;\n",
              "      box-shadow: 0px 1px 2px rgba(60, 64, 67, 0.3), 0px 1px 3px 1px rgba(60, 64, 67, 0.15);\n",
              "      fill: #174EA6;\n",
              "    }\n",
              "\n",
              "    [theme=dark] .colab-df-convert {\n",
              "      background-color: #3B4455;\n",
              "      fill: #D2E3FC;\n",
              "    }\n",
              "\n",
              "    [theme=dark] .colab-df-convert:hover {\n",
              "      background-color: #434B5C;\n",
              "      box-shadow: 0px 1px 3px 1px rgba(0, 0, 0, 0.15);\n",
              "      filter: drop-shadow(0px 1px 2px rgba(0, 0, 0, 0.3));\n",
              "      fill: #FFFFFF;\n",
              "    }\n",
              "  </style>\n",
              "\n",
              "      <script>\n",
              "        const buttonEl =\n",
              "          document.querySelector('#df-31beffa4-a3ad-455f-99f5-a5c9d84c1070 button.colab-df-convert');\n",
              "        buttonEl.style.display =\n",
              "          google.colab.kernel.accessAllowed ? 'block' : 'none';\n",
              "\n",
              "        async function convertToInteractive(key) {\n",
              "          const element = document.querySelector('#df-31beffa4-a3ad-455f-99f5-a5c9d84c1070');\n",
              "          const dataTable =\n",
              "            await google.colab.kernel.invokeFunction('convertToInteractive',\n",
              "                                                     [key], {});\n",
              "          if (!dataTable) return;\n",
              "\n",
              "          const docLinkHtml = 'Like what you see? Visit the ' +\n",
              "            '<a target=\"_blank\" href=https://colab.research.google.com/notebooks/data_table.ipynb>data table notebook</a>'\n",
              "            + ' to learn more about interactive tables.';\n",
              "          element.innerHTML = '';\n",
              "          dataTable['output_type'] = 'display_data';\n",
              "          await google.colab.output.renderOutput(dataTable, element);\n",
              "          const docLink = document.createElement('div');\n",
              "          docLink.innerHTML = docLinkHtml;\n",
              "          element.appendChild(docLink);\n",
              "        }\n",
              "      </script>\n",
              "    </div>\n",
              "  </div>\n",
              "  "
            ],
            "text/plain": [
              "  ticker   price\n",
              "3   AAPL  176.01"
            ]
          },
          "metadata": {},
          "execution_count": 11
        }
      ]
    },
    {
      "cell_type": "code",
      "source": [
        "query = \"--price 2016-07-29-13:34\"\n",
        "server.processClientQuery(query)"
      ],
      "metadata": {
        "colab": {
          "base_uri": "https://localhost:8080/",
          "height": 35
        },
        "id": "4gQs4lcQRK4K",
        "outputId": "30aa5f15-de92-49a9-f081-dc374f12b12d"
      },
      "execution_count": 12,
      "outputs": [
        {
          "output_type": "execute_result",
          "data": {
            "application/vnd.google.colaboratory.intrinsic+json": {
              "type": "string"
            },
            "text/plain": [
              "'Server has no data'"
            ]
          },
          "metadata": {},
          "execution_count": 12
        }
      ]
    },
    {
      "cell_type": "code",
      "source": [
        ""
      ],
      "metadata": {
        "id": "LgmjHN_dRMQr"
      },
      "execution_count": null,
      "outputs": []
    }
  ]
}