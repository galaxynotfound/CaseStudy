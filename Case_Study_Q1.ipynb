{
 "cells": [
  {
   "cell_type": "markdown",
   "metadata": {
    "id": "WQ2rfQZuv0W_"
   },
   "source": [
    "# to run code please attach the Case Associate Values 20220118.csv file and upload then run the notebook cells in order. Answers to Question 1a) to 1f) is answered at the end of the notebook"
   ]
  },
  {
   "cell_type": "code",
   "execution_count": 1,
   "metadata": {
    "id": "ZVn-F-MKFuG0"
   },
   "outputs": [],
   "source": [
    "import numpy as np\n",
    "import pandas as pd"
   ]
  },
  {
   "cell_type": "code",
   "execution_count": 264,
   "metadata": {
    "id": "aAbCziFaGaxS"
   },
   "outputs": [],
   "source": [
    "df = pd.read_csv('Case Associate Values 20220118.csv'),header = 2)\n",
    "#save the csv file in the same location as the notebook "
   ]
  },
  {
   "cell_type": "code",
   "execution_count": 265,
   "metadata": {
    "id": "QEuyciOVHkIH"
   },
   "outputs": [],
   "source": [
    "df = df.rename(columns = {'Unnamed: 0':'Date'})"
   ]
  },
  {
   "cell_type": "code",
   "execution_count": 266,
   "metadata": {
    "id": "tOdFgPwFHkuB"
   },
   "outputs": [],
   "source": [
    "df.set_index('Date',inplace = True)"
   ]
  },
  {
   "cell_type": "code",
   "execution_count": 267,
   "metadata": {
    "colab": {
     "base_uri": "https://localhost:8080/",
     "height": 368
    },
    "id": "pfVrM5jvIDmQ",
    "outputId": "a94b7f56-7c80-4f4c-a5c5-305d81b4a56f"
   },
   "outputs": [
    {
     "data": {
      "text/html": [
       "\n",
       "  <div id=\"df-67a28add-ad62-439a-b3d2-2f281ee32dd7\">\n",
       "    <div class=\"colab-df-container\">\n",
       "      <div>\n",
       "<style scoped>\n",
       "    .dataframe tbody tr th:only-of-type {\n",
       "        vertical-align: middle;\n",
       "    }\n",
       "\n",
       "    .dataframe tbody tr th {\n",
       "        vertical-align: top;\n",
       "    }\n",
       "\n",
       "    .dataframe thead th {\n",
       "        text-align: right;\n",
       "    }\n",
       "</style>\n",
       "<table border=\"1\" class=\"dataframe\">\n",
       "  <thead>\n",
       "    <tr style=\"text-align: right;\">\n",
       "      <th></th>\n",
       "      <th>SPX LEVEL</th>\n",
       "      <th>CDX IG 5Y SPREAD</th>\n",
       "      <th>CDX HY 5Y SPREAD</th>\n",
       "      <th>VIX SPOT</th>\n",
       "      <th>VIX FIRST MONTH FUTURE</th>\n",
       "      <th>VIX SECOND MONTH FUTURE</th>\n",
       "      <th>VIX THIRD MONTH FUTURE</th>\n",
       "      <th>CDX IG 5Y ON THE RUN TOTAL RETURN SERIES</th>\n",
       "      <th>VIX FUTURES INDEX SERIES TOTAL RETURN*</th>\n",
       "      <th>SPX TOTAL RETURN</th>\n",
       "    </tr>\n",
       "    <tr>\n",
       "      <th>Date</th>\n",
       "      <th></th>\n",
       "      <th></th>\n",
       "      <th></th>\n",
       "      <th></th>\n",
       "      <th></th>\n",
       "      <th></th>\n",
       "      <th></th>\n",
       "      <th></th>\n",
       "      <th></th>\n",
       "      <th></th>\n",
       "    </tr>\n",
       "  </thead>\n",
       "  <tbody>\n",
       "    <tr>\n",
       "      <th>01/05/2007</th>\n",
       "      <td>1409.71</td>\n",
       "      <td>33.854</td>\n",
       "      <td>248.506</td>\n",
       "      <td>12.14</td>\n",
       "      <td>12.38</td>\n",
       "      <td>13.48</td>\n",
       "      <td>13.83</td>\n",
       "      <td>105.01195</td>\n",
       "      <td>48746.66</td>\n",
       "      <td>2173.29</td>\n",
       "    </tr>\n",
       "    <tr>\n",
       "      <th>01/12/2007</th>\n",
       "      <td>1430.73</td>\n",
       "      <td>33.881</td>\n",
       "      <td>231.286</td>\n",
       "      <td>10.15</td>\n",
       "      <td>10.66</td>\n",
       "      <td>12.08</td>\n",
       "      <td>13.18</td>\n",
       "      <td>105.04101</td>\n",
       "      <td>43482.37</td>\n",
       "      <td>2206.68</td>\n",
       "    </tr>\n",
       "    <tr>\n",
       "      <th>01/19/2007</th>\n",
       "      <td>1430.50</td>\n",
       "      <td>32.416</td>\n",
       "      <td>216.591</td>\n",
       "      <td>10.40</td>\n",
       "      <td>11.69</td>\n",
       "      <td>12.78</td>\n",
       "      <td>13.32</td>\n",
       "      <td>105.12158</td>\n",
       "      <td>42208.82</td>\n",
       "      <td>2206.60</td>\n",
       "    </tr>\n",
       "    <tr>\n",
       "      <th>01/26/2007</th>\n",
       "      <td>1422.18</td>\n",
       "      <td>31.796</td>\n",
       "      <td>214.757</td>\n",
       "      <td>11.13</td>\n",
       "      <td>11.88</td>\n",
       "      <td>12.78</td>\n",
       "      <td>13.47</td>\n",
       "      <td>105.15026</td>\n",
       "      <td>42690.01</td>\n",
       "      <td>2193.89</td>\n",
       "    </tr>\n",
       "    <tr>\n",
       "      <th>02/02/2007</th>\n",
       "      <td>1448.39</td>\n",
       "      <td>31.791</td>\n",
       "      <td>212.700</td>\n",
       "      <td>10.08</td>\n",
       "      <td>11.20</td>\n",
       "      <td>12.24</td>\n",
       "      <td>13.08</td>\n",
       "      <td>105.18588</td>\n",
       "      <td>40621.44</td>\n",
       "      <td>2235.39</td>\n",
       "    </tr>\n",
       "  </tbody>\n",
       "</table>\n",
       "</div>\n",
       "      <button class=\"colab-df-convert\" onclick=\"convertToInteractive('df-67a28add-ad62-439a-b3d2-2f281ee32dd7')\"\n",
       "              title=\"Convert this dataframe to an interactive table.\"\n",
       "              style=\"display:none;\">\n",
       "        \n",
       "  <svg xmlns=\"http://www.w3.org/2000/svg\" height=\"24px\"viewBox=\"0 0 24 24\"\n",
       "       width=\"24px\">\n",
       "    <path d=\"M0 0h24v24H0V0z\" fill=\"none\"/>\n",
       "    <path d=\"M18.56 5.44l.94 2.06.94-2.06 2.06-.94-2.06-.94-.94-2.06-.94 2.06-2.06.94zm-11 1L8.5 8.5l.94-2.06 2.06-.94-2.06-.94L8.5 2.5l-.94 2.06-2.06.94zm10 10l.94 2.06.94-2.06 2.06-.94-2.06-.94-.94-2.06-.94 2.06-2.06.94z\"/><path d=\"M17.41 7.96l-1.37-1.37c-.4-.4-.92-.59-1.43-.59-.52 0-1.04.2-1.43.59L10.3 9.45l-7.72 7.72c-.78.78-.78 2.05 0 2.83L4 21.41c.39.39.9.59 1.41.59.51 0 1.02-.2 1.41-.59l7.78-7.78 2.81-2.81c.8-.78.8-2.07 0-2.86zM5.41 20L4 18.59l7.72-7.72 1.47 1.35L5.41 20z\"/>\n",
       "  </svg>\n",
       "      </button>\n",
       "      \n",
       "  <style>\n",
       "    .colab-df-container {\n",
       "      display:flex;\n",
       "      flex-wrap:wrap;\n",
       "      gap: 12px;\n",
       "    }\n",
       "\n",
       "    .colab-df-convert {\n",
       "      background-color: #E8F0FE;\n",
       "      border: none;\n",
       "      border-radius: 50%;\n",
       "      cursor: pointer;\n",
       "      display: none;\n",
       "      fill: #1967D2;\n",
       "      height: 32px;\n",
       "      padding: 0 0 0 0;\n",
       "      width: 32px;\n",
       "    }\n",
       "\n",
       "    .colab-df-convert:hover {\n",
       "      background-color: #E2EBFA;\n",
       "      box-shadow: 0px 1px 2px rgba(60, 64, 67, 0.3), 0px 1px 3px 1px rgba(60, 64, 67, 0.15);\n",
       "      fill: #174EA6;\n",
       "    }\n",
       "\n",
       "    [theme=dark] .colab-df-convert {\n",
       "      background-color: #3B4455;\n",
       "      fill: #D2E3FC;\n",
       "    }\n",
       "\n",
       "    [theme=dark] .colab-df-convert:hover {\n",
       "      background-color: #434B5C;\n",
       "      box-shadow: 0px 1px 3px 1px rgba(0, 0, 0, 0.15);\n",
       "      filter: drop-shadow(0px 1px 2px rgba(0, 0, 0, 0.3));\n",
       "      fill: #FFFFFF;\n",
       "    }\n",
       "  </style>\n",
       "\n",
       "      <script>\n",
       "        const buttonEl =\n",
       "          document.querySelector('#df-67a28add-ad62-439a-b3d2-2f281ee32dd7 button.colab-df-convert');\n",
       "        buttonEl.style.display =\n",
       "          google.colab.kernel.accessAllowed ? 'block' : 'none';\n",
       "\n",
       "        async function convertToInteractive(key) {\n",
       "          const element = document.querySelector('#df-67a28add-ad62-439a-b3d2-2f281ee32dd7');\n",
       "          const dataTable =\n",
       "            await google.colab.kernel.invokeFunction('convertToInteractive',\n",
       "                                                     [key], {});\n",
       "          if (!dataTable) return;\n",
       "\n",
       "          const docLinkHtml = 'Like what you see? Visit the ' +\n",
       "            '<a target=\"_blank\" href=https://colab.research.google.com/notebooks/data_table.ipynb>data table notebook</a>'\n",
       "            + ' to learn more about interactive tables.';\n",
       "          element.innerHTML = '';\n",
       "          dataTable['output_type'] = 'display_data';\n",
       "          await google.colab.output.renderOutput(dataTable, element);\n",
       "          const docLink = document.createElement('div');\n",
       "          docLink.innerHTML = docLinkHtml;\n",
       "          element.appendChild(docLink);\n",
       "        }\n",
       "      </script>\n",
       "    </div>\n",
       "  </div>\n",
       "  "
      ],
      "text/plain": [
       "            SPX LEVEL  ...  SPX TOTAL RETURN\n",
       "Date                   ...                  \n",
       "01/05/2007    1409.71  ...           2173.29\n",
       "01/12/2007    1430.73  ...           2206.68\n",
       "01/19/2007    1430.50  ...           2206.60\n",
       "01/26/2007    1422.18  ...           2193.89\n",
       "02/02/2007    1448.39  ...           2235.39\n",
       "\n",
       "[5 rows x 10 columns]"
      ]
     },
     "execution_count": 267,
     "metadata": {},
     "output_type": "execute_result"
    }
   ],
   "source": [
    "df2 = df\n",
    "df.head()\n"
   ]
  },
  {
   "cell_type": "markdown",
   "metadata": {
    "id": "ShEqI5o4J2mo"
   },
   "source": [
    "Mean reversion strategy using CDX IG and SPX"
   ]
  },
  {
   "cell_type": "code",
   "execution_count": 268,
   "metadata": {
    "id": "i-c4r4NGJ6iY"
   },
   "outputs": [],
   "source": [
    "from statsmodels.api import OLS\n",
    "import matplotlib.pyplot as plt\n"
   ]
  },
  {
   "cell_type": "code",
   "execution_count": 280,
   "metadata": {
    "id": "eY0bqA1GuX-3"
   },
   "outputs": [],
   "source": [
    "def mean_rev(hedgeratio,entry_threshold,exit_threshold,lookback):\n",
    "  spread = df['CDX IG 5Y SPREAD'].pct_change() - df['SPX LEVEL'].pct_change()*hedgeratio\n",
    "  spread.dropna(inplace = True)\n",
    "\n",
    "  spread_emea = np.zeros(len(spread))\n",
    "  spread_var = np.zeros(len(spread))\n",
    "  spread_emea[0] = spread[0]\n",
    "  spread_var[0] = (spread[1]-spread[0])**2\n",
    "  for i in range(1,len(spread)):\n",
    "    spread_emea[i] = 2/lookback*spread[i]+(1-2/lookback)*spread_emea[i-1]\n",
    "    spread_var[i] = 2/lookback*(spread[i]-spread_emea[i-1])**2+(1-2/lookback)*spread_var[i-1]\n",
    "\n",
    "  df['zscore'] = (spread - spread_emea)/(spread_var**0.5)\n",
    "  df['position_IG_Long'] = 0\n",
    "  df['position_SPX_Long'] = 0\n",
    "  df['position_IG_Short'] = 0\n",
    "  df['position_SPX_Short'] = 0\n",
    "\n",
    "  df.loc[df.zscore >=entry_threshold,('position_IG_Short','position_SPX_Short')] = [-1,hedgeratio] #short spread\n",
    "  df.loc[df.zscore <=-entry_threshold,('position_IG_Long','position_SPX_Long')] = [1,-hedgeratio] #Buy spread\n",
    "  df.loc[df.zscore >=exit_threshold,('position_IG_Long','position_SPX_Long')] = 0 #exit long spread\n",
    "  df.loc[df.zscore <=-exit_threshold,('position_IG_Short','position_SPX_Short')] = 0 #exit short spread \n",
    "\n",
    "  df.fillna(method = 'ffill',inplace=True)\n",
    "\n",
    "  positions = np.array(df.loc[:,('position_IG_Long','position_SPX_Long')])+np.array(df.loc[:,('position_IG_Short','position_SPX_Short')])\n",
    "  positions = pd.DataFrame(positions)\n",
    "\n",
    "\n",
    "  daily_ret = df.loc[:,('CDX IG 5Y SPREAD','SPX LEVEL')].pct_change()\n",
    "  pnl = (np.array(positions.shift())*np.array(daily_ret)).sum(axis = 1)\n",
    "  mean = np.nanmean(pnl)*52\n",
    "  std = np.nanstd(pnl)*np.sqrt(52)\n",
    "  sharpe = np.nanmean(pnl)/np.nanstd(pnl)*np.sqrt(52)\n",
    "\n",
    "  return mean,std,sharpe,pnl"
   ]
  },
  {
   "cell_type": "code",
   "execution_count": 281,
   "metadata": {
    "id": "ZruxjZQP9LRn"
   },
   "outputs": [],
   "source": [
    "def mean_rev_transaction_cost(hedgeratio,entry_threshold,exit_threshold,lookback):\n",
    "\n",
    "  spread = df['CDX IG 5Y SPREAD'].pct_change() - df['SPX LEVEL'].pct_change()*hedgeratio\n",
    "  spread.dropna(inplace = True)\n",
    "\n",
    "  spread_emea = np.zeros(len(spread))\n",
    "  spread_var = np.zeros(len(spread))\n",
    "  spread_emea[0] = spread[0]\n",
    "  spread_var[0] = (spread[1]-spread[0])**2\n",
    "  for i in range(1,len(spread)):\n",
    "    spread_emea[i] = 2/lookback*spread[i]+(1-2/lookback)*spread_emea[i-1]\n",
    "    spread_var[i] = 2/lookback*(spread[i]-spread_emea[i-1])**2+(1-2/lookback)*spread_var[i-1]\n",
    "\n",
    "  df['zscore'] = (spread - spread_emea)/(spread_var**0.5)\n",
    "  df['position_IG_Long'] = 0\n",
    "  df['position_SPX_Long'] = 0\n",
    "  df['position_IG_Short'] = 0\n",
    "  df['position_SPX_Short'] = 0\n",
    "\n",
    "  df.loc[df.zscore >=entry_threshold,('position_IG_Short','position_SPX_Short')] = [-1,hedgeratio] #short spread\n",
    "  df.loc[df.zscore <=-entry_threshold,('position_IG_Long','position_SPX_Long')] = [1,-hedgeratio] #Buy spread\n",
    "  df.loc[df.zscore >=exit_threshold,('position_IG_Long','position_SPX_Long')] = 0 #exit long spread\n",
    "  df.loc[df.zscore <=-exit_threshold,('position_IG_Short','position_SPX_Short')] = 0 #exit short spread \n",
    "\n",
    "  df.fillna(method = 'ffill',inplace=True)\n",
    "\n",
    "  positions = np.array(df.loc[:,('position_IG_Long','position_SPX_Long')])+np.array(df.loc[:,('position_IG_Short','position_SPX_Short')])\n",
    "  positions = pd.DataFrame(positions)\n",
    "\n",
    "  daily_ret = df.loc[:,('CDX IG 5Y SPREAD','SPX LEVEL')].pct_change()\n",
    "  \n",
    "  pnl = (np.array(positions.shift())*np.array(daily_ret)).sum(axis = 1)\n",
    "  onewaytcost = 0.0025\n",
    "  transaction_cost = abs(positions.iloc[:,0] - positions.iloc[:,0].shift())*onewaytcost\n",
    "\n",
    "  #daily_ret['CDX IG 5Y SPREAD'] =  (daily_ret['CDX IG 5Y SPREAD']).subtract((transaction_cost*positions.iloc[:,0]).values)\n",
    "\n",
    "  dailypnlwithcost = (np.array(positions.shift())*np.array(daily_ret)).sum(axis = 1) - np.array(transaction_cost)\n",
    "  mean = np.nanmean(dailypnlwithcost)*52\n",
    "  std = np.nanstd(dailypnlwithcost)*np.sqrt(52)\n",
    "  sharpe = np.nanmean(dailypnlwithcost)/np.nanstd(dailypnlwithcost)*np.sqrt(52)\n",
    "  \n",
    "\n",
    "  return mean,std,sharpe,dailypnlwithcost"
   ]
  },
  {
   "cell_type": "markdown",
   "metadata": {
    "id": "UPg51X0OpVeG"
   },
   "source": [
    "MOMENTUM STRATEGY"
   ]
  },
  {
   "cell_type": "code",
   "execution_count": 465,
   "metadata": {
    "id": "U69Da6rnfMZ0"
   },
   "outputs": [],
   "source": [
    "def momentum2(hedgeratio,entry_threshold,exit_threshold,lookback):\n",
    "\n",
    "  df2['spread2'] =df2['CDX IG 5Y SPREAD'].pct_change() - df2['VIX SPOT'].pct_change()\n",
    "  df2['spread_rolling'] = df2['spread2'].rolling(window = lookback).sum()/lookback\n",
    "  df2['position_IG_Long'] = 0\n",
    "  df2['position_VIX_Long'] = 0\n",
    "  df2['position_IG_Short'] = 0\n",
    "  df2['position_VIX_Short'] = 0\n",
    "\n",
    "  df2.loc[df2.spread_rolling>=entry_threshold ,('position_IG_Long','position_VIX_Long')] = [1,-hedgeratio] #Long spread\n",
    "  df2.loc[df2.spread_rolling<=-entry_threshold,('position_IG_Short','position_VIX_Short')] = [-1,hedgeratio] # short spread\n",
    "  df2.loc[df2.spread_rolling>=exit_threshold,('position_IG_Short','position_VIX_Short')] = 0 #exit when too high\n",
    "  df2.loc[df2.spread_rolling<=-exit_threshold,('position_IG_Long','position_VIX_Long')] = 0  # exit when too low \n",
    "\n",
    "  df2.fillna(method = 'ffill',inplace=True)\n",
    "\n",
    "  positions = np.array(df2.loc[:,('position_IG_Long','position_VIX_Long')])+np.array(df2.loc[:,('position_IG_Short','position_VIX_Short')])\n",
    "  positions = pd.DataFrame(positions)\n",
    "  daily_ret = df2.loc[:,('CDX IG 5Y SPREAD','VIX SPOT')].pct_change()\n",
    "  pnl = (np.array(positions.shift())*np.array(daily_ret)).sum(axis = 1)\n",
    "  mean = np.nanmean(pnl)*52\n",
    "  std = np.nanstd(pnl)*np.sqrt(52)\n",
    "  sharpe = np.nanmean(pnl)/np.nanstd(pnl)*np.sqrt(52)\n",
    "\n",
    "  return mean,std,sharpe,pnl"
   ]
  },
  {
   "cell_type": "code",
   "execution_count": 466,
   "metadata": {
    "id": "tdX4yNEdiXlo"
   },
   "outputs": [],
   "source": [
    "def momentum2_transaction_cost(hedgeratio,entry_threshold,exit_threshold,lookback):\n",
    "\n",
    "  df2['spread2'] =df2['CDX IG 5Y SPREAD'].pct_change() - df2['VIX SPOT'].pct_change()\n",
    "  df2['spread_rolling'] = df2['spread2'].rolling(window = lookback).sum()/lookback\n",
    "  df2['position_IG_Long'] = 0\n",
    "  df2['position_VIX_Long'] = 0\n",
    "  df2['position_IG_Short'] = 0\n",
    "  df2['position_VIX_Short'] = 0\n",
    "\n",
    "  df2.loc[df2.spread_rolling>=entry_threshold ,('position_IG_Long','position_VIX_Long')] = [1,-hedgeratio] #Long spread\n",
    "  df2.loc[df2.spread_rolling<=-entry_threshold,('position_IG_Short','position_VIX_Short')] = [-1,hedgeratio] # short spread\n",
    "  df2.loc[df2.spread_rolling>=exit_threshold,('position_IG_Short','position_VIX_Short')] = 0 #exit when too high\n",
    "  df2.loc[df2.spread_rolling<=-exit_threshold,('position_IG_Long','position_VIX_Long')] = 0  # exit when too low \n",
    "\n",
    "  df2.fillna(method = 'ffill',inplace=True)\n",
    "\n",
    "  positions = np.array(df2.loc[:,('position_IG_Long','position_VIX_Long')])+np.array(df2.loc[:,('position_IG_Short','position_VIX_Short')])\n",
    "  positions = pd.DataFrame(positions)\n",
    "\n",
    "  daily_ret = df2.loc[:,('CDX IG 5Y SPREAD','VIX SPOT')].pct_change()\n",
    "  pnl = (np.array(positions.shift())*np.array(daily_ret)).sum(axis = 1)\n",
    "  onewaytcost = 0.0025\n",
    "  transaction_cost = abs(positions.iloc[:,0] - positions.iloc[:,0].shift())*onewaytcost\n",
    " \n",
    "\n",
    "  dailypnlwithcost = (np.array(positions.shift())*np.array(daily_ret)).sum(axis = 1)- np.array(transaction_cost)\n",
    "\n",
    "  mean = np.nanmean(dailypnlwithcost)*52\n",
    "  std = np.nanstd(dailypnlwithcost)*np.sqrt(52)\n",
    "  sharpe = np.nanmean(dailypnlwithcost)/np.nanstd(dailypnlwithcost)*np.sqrt(52)\n",
    "\n",
    "  return mean,std,sharpe,dailypnlwithcost"
   ]
  },
  {
   "cell_type": "code",
   "execution_count": 286,
   "metadata": {
    "id": "FCFQ7Vtwj1W-"
   },
   "outputs": [],
   "source": [
    "mean_rev_result =  pd.DataFrame(columns = {'hedgeratio','entry_threshold','exit_threshold','lookback','Mean','Std',\"Sharpe\"})\n",
    "mean_rev_transaction_result =  pd.DataFrame(columns = {'hedgeratio','entry_threshold','exit_threshold','lookback','Mean','Std',\"Sharpe\"})"
   ]
  },
  {
   "cell_type": "code",
   "execution_count": 447,
   "metadata": {
    "colab": {
     "base_uri": "https://localhost:8080/"
    },
    "id": "PvMoDdefUFzs",
    "outputId": "94f5285a-25c2-4d2c-a4cb-d4674d2bcf9e"
   },
   "outputs": [
    {
     "data": {
      "text/plain": [
       "array([0.005, 0.01 , 0.015, 0.02 , 0.025])"
      ]
     },
     "execution_count": 447,
     "metadata": {},
     "output_type": "execute_result"
    }
   ],
   "source": [
    "#params\n",
    "hedgeratio = np.arange(1,11)/10\n",
    "entry_threshold = np.arange(1,6)/5\n",
    "lookback = [4,8,13,26,52,104,156,208]\n",
    "exit_threshold = np.arange(1,6)/-5"
   ]
  },
  {
   "cell_type": "code",
   "execution_count": 448,
   "metadata": {
    "id": "ZvEQApagv--0"
   },
   "outputs": [],
   "source": [
    "for i in hedgeratio:\n",
    "  for j in entry_threshold:\n",
    "    for m in exit_threshold:\n",
    "      for k in lookback:\n",
    "        \n",
    "        mean,std,sharpe,pnl = mean_rev(i,j,j*m,k)\n",
    "        mean2,std2,sharpe2,pnl2 = mean_rev_transaction_cost(i,j,j*m,k)\n",
    "        mean_rev_result = mean_rev_result.append({'hedgeratio':i,'entry_threshold':j,'exit_threshold':m,'lookback':k,'Mean':mean,'Std':std,'Sharpe':sharpe},ignore_index = True)\n",
    "        mean_rev_transaction_result = mean_rev_transaction_result.append({'hedgeratio':i,'entry_threshold':j,'exit_threshold':m,'lookback':k,'Mean':mean2,'Std':std2,'Sharpe':sharpe2},ignore_index = True)"
   ]
  },
  {
   "cell_type": "code",
   "execution_count": 291,
   "metadata": {
    "colab": {
     "base_uri": "https://localhost:8080/"
    },
    "id": "ZEQnmT7Kx1Wt",
    "outputId": "7498decb-85cb-4a97-8629-8850333e36c5"
   },
   "outputs": [
    {
     "data": {
      "text/plain": [
       "lookback           8.000000\n",
       "entry_threshold    0.800000\n",
       "hedgeratio         0.800000\n",
       "Mean               0.257475\n",
       "exit_threshold    -0.200000\n",
       "Std                0.376201\n",
       "Sharpe             0.684410\n",
       "Name: 211, dtype: float64"
      ]
     },
     "execution_count": 291,
     "metadata": {},
     "output_type": "execute_result"
    }
   ],
   "source": [
    "mean_rev_result.iloc[mean_rev_result['Sharpe'].idxmax()]"
   ]
  },
  {
   "cell_type": "code",
   "execution_count": 292,
   "metadata": {
    "colab": {
     "base_uri": "https://localhost:8080/"
    },
    "id": "bL5nBjxYG7nb",
    "outputId": "14b928db-3117-4818-e800-914100208b88"
   },
   "outputs": [
    {
     "data": {
      "text/plain": [
       "lookback           104.000000\n",
       "entry_threshold      1.000000\n",
       "hedgeratio           0.800000\n",
       "Mean                 0.239085\n",
       "exit_threshold      -0.200000\n",
       "Std                  0.432597\n",
       "Sharpe               0.552673\n",
       "Name: 250, dtype: float64"
      ]
     },
     "execution_count": 292,
     "metadata": {},
     "output_type": "execute_result"
    }
   ],
   "source": [
    "mean_rev_transaction_result.iloc[mean_rev_transaction_result['Sharpe'].idxmax()]"
   ]
  },
  {
   "cell_type": "code",
   "execution_count": 468,
   "metadata": {
    "colab": {
     "base_uri": "https://localhost:8080/"
    },
    "id": "BKSySYfHnsz2",
    "outputId": "ffadcfa7-a333-4a74-cacf-042466eedfec"
   },
   "outputs": [
    {
     "data": {
      "text/plain": [
       "array([0.0025, 0.005 , 0.0075, 0.01  , 0.0125])"
      ]
     },
     "execution_count": 468,
     "metadata": {},
     "output_type": "execute_result"
    }
   ],
   "source": [
    "\n",
    "\n",
    "#params\n",
    "hedgeratio = np.arange(1,11)/5\n",
    "entry_threshold = np.arange(1,6)/400\n",
    "lookback = [4,8,13,26,52,104,156,208]\n",
    "exit_threshold = [1.2,1.4,1.6,1.8,2]\n",
    "entry_threshold"
   ]
  },
  {
   "cell_type": "code",
   "execution_count": 469,
   "metadata": {
    "id": "c2Ki6OfmpGSG"
   },
   "outputs": [],
   "source": [
    "momentum_result2 = pd.DataFrame(columns = {'hedgeratio','entry_threshold','exit_threshold','lookback','Mean','Std',\"Sharpe\"})\n",
    "momentum_result_t2 = pd.DataFrame(columns = {'hedgeratio','entry_threshold','exit_threshold','lookback','Mean','Std',\"Sharpe\"})\n",
    "for i in hedgeratio:\n",
    "  for j in entry_threshold:\n",
    "    for m in exit_threshold:\n",
    "      for k in lookback:\n",
    "        \n",
    "        mean,std,sharpe,pnl = momentum2(i,j,j*m,k)\n",
    "        mean2,std2,sharpe2,pnl2 = momentum2_transaction_cost(i,j,j*m,k)\n",
    "        momentum_result2 = momentum_result2.append({'hedgeratio':i,'entry_threshold':j,'exit_threshold':m,'lookback':k,'Mean':mean,'Std':std,'Sharpe':sharpe},ignore_index = True)\n",
    "        momentum_result_t2 = momentum_result_t2.append({'hedgeratio':i,'entry_threshold':j,'exit_threshold':m,'lookback':k,'Mean':mean2,'Std':std2,'Sharpe':sharpe2},ignore_index = True)\n",
    "       "
   ]
  },
  {
   "cell_type": "code",
   "execution_count": 470,
   "metadata": {
    "colab": {
     "base_uri": "https://localhost:8080/"
    },
    "id": "0FrHB5xCtzWT",
    "outputId": "590f35bf-9d8c-4c52-f4f6-1e4f19599f5c"
   },
   "outputs": [
    {
     "data": {
      "text/plain": [
       "lookback           156.000000\n",
       "entry_threshold      0.005000\n",
       "hedgeratio           0.800000\n",
       "Mean                 0.346040\n",
       "exit_threshold       1.200000\n",
       "Std                  0.670875\n",
       "Sharpe               0.515804\n",
       "Name: 646, dtype: float64"
      ]
     },
     "execution_count": 470,
     "metadata": {},
     "output_type": "execute_result"
    }
   ],
   "source": [
    "momentum_result2.iloc[momentum_result2['Sharpe'].idxmax()]"
   ]
  },
  {
   "cell_type": "code",
   "execution_count": 471,
   "metadata": {
    "colab": {
     "base_uri": "https://localhost:8080/"
    },
    "id": "uIrn7p-B077B",
    "outputId": "f08f9d38-e898-4c1f-aa53-2a5a9b9d8118"
   },
   "outputs": [
    {
     "data": {
      "text/plain": [
       "lookback           156.000000\n",
       "entry_threshold      0.005000\n",
       "hedgeratio           0.800000\n",
       "Mean                 0.343865\n",
       "exit_threshold       1.200000\n",
       "Std                  0.670926\n",
       "Sharpe               0.512523\n",
       "Name: 646, dtype: float64"
      ]
     },
     "execution_count": 471,
     "metadata": {},
     "output_type": "execute_result"
    }
   ],
   "source": [
    "momentum_result_t2.iloc[momentum_result_t2['Sharpe'].idxmax()]"
   ]
  },
  {
   "cell_type": "code",
   "execution_count": 472,
   "metadata": {
    "id": "x3cPJ3Df5RMO"
   },
   "outputs": [],
   "source": [
    "def calculateMaxDD(cumret):\n",
    "  highwatermark = np.zeros(cumret.shape[0])\n",
    "  drawdown = np.zeros(cumret.shape[0])\n",
    "  drawdownduration = np.zeros(cumret.shape[0])\n",
    "  for i in np.arange(1,cumret.shape[0]):\n",
    "    highwatermark[i] = np.maximum(highwatermark[i-1],cumret.iloc[i])\n",
    "    drawdown[i] = (1+cumret.iloc[i])/(1+highwatermark[i])-1\n",
    "    if drawdown[i] ==0:\n",
    "      drawdownduration[i] = 0\n",
    "    else:\n",
    "      drawdownduration[i] = drawdownduration[i-1]+1\n",
    "\n",
    "  maxDD, t = np.min(drawdown),np.argmin(drawdown)\n",
    "  maxDDD = np.max(drawdownduration)\n",
    "  return maxDD,maxDDD,t\n"
   ]
  },
  {
   "cell_type": "code",
   "execution_count": 502,
   "metadata": {
    "id": "20RVVkg8ER6r"
   },
   "outputs": [],
   "source": [
    "#mean reverse\n",
    "return_metrics = pd.DataFrame(columns = {'strategy','mean','std','Sharpe','maxdd','maxddd','VaR','CVaR'})\n",
    "mean,std,sharpe,pnl = mean_rev(0.8,0.8,0.8*-0.2,8)\n",
    "cumret_meanreverse = pd.DataFrame(pnl+1).cumprod()\n",
    "maxdd,maxddd,t = calculateMaxDD(cumret_meanreverse)   \n"
   ]
  },
  {
   "cell_type": "code",
   "execution_count": 503,
   "metadata": {
    "id": "6kG7A-grJv8O"
   },
   "outputs": [],
   "source": [
    "cumret_meanreverse['date'] = df.index\n",
    "cumret_meanreverse.set_index('date',inplace = True)\n",
    "cumret_meanreverse.columns = ['Mean Reversion Strategy']"
   ]
  },
  {
   "cell_type": "code",
   "execution_count": 504,
   "metadata": {
    "colab": {
     "base_uri": "https://localhost:8080/",
     "height": 344
    },
    "id": "-O59JMCWIXbA",
    "outputId": "3d81df7d-b168-401a-c3cd-391d1165e5f6"
   },
   "outputs": [
    {
     "data": {
      "text/plain": [
       "<matplotlib.axes._subplots.AxesSubplot at 0x7efeb288e3d0>"
      ]
     },
     "execution_count": 504,
     "metadata": {},
     "output_type": "execute_result"
    },
    {
     "data": {
      "image/png": "[encoded data removed]",
      "text/plain": [
       "<Figure size 432x288 with 1 Axes>"
      ]
     },
     "metadata": {
      "needs_background": "light"
     },
     "output_type": "display_data"
    }
   ],
   "source": [
    "cumret_meanreverse.plot(rot = 90,ylabel = 'cummulative return',legend = 'PNL')"
   ]
  },
  {
   "cell_type": "code",
   "execution_count": 505,
   "metadata": {
    "colab": {
     "base_uri": "https://localhost:8080/",
     "height": 206
    },
    "id": "nH62XbNgr9Nb",
    "outputId": "5dc06add-1847-44e4-e1d3-0f1afddb9f20"
   },
   "outputs": [
    {
     "data": {
      "text/html": [
       "\n",
       "  <div id=\"df-0ad09279-5e31-4c40-bc0e-5e7efe63a7da\">\n",
       "    <div class=\"colab-df-container\">\n",
       "      <div>\n",
       "<style scoped>\n",
       "    .dataframe tbody tr th:only-of-type {\n",
       "        vertical-align: middle;\n",
       "    }\n",
       "\n",
       "    .dataframe tbody tr th {\n",
       "        vertical-align: top;\n",
       "    }\n",
       "\n",
       "    .dataframe thead th {\n",
       "        text-align: right;\n",
       "    }\n",
       "</style>\n",
       "<table border=\"1\" class=\"dataframe\">\n",
       "  <thead>\n",
       "    <tr style=\"text-align: right;\">\n",
       "      <th></th>\n",
       "      <th>ret</th>\n",
       "    </tr>\n",
       "  </thead>\n",
       "  <tbody>\n",
       "    <tr>\n",
       "      <th>0</th>\n",
       "      <td>-0.530618</td>\n",
       "    </tr>\n",
       "    <tr>\n",
       "      <th>1</th>\n",
       "      <td>-0.337587</td>\n",
       "    </tr>\n",
       "    <tr>\n",
       "      <th>2</th>\n",
       "      <td>-0.246766</td>\n",
       "    </tr>\n",
       "    <tr>\n",
       "      <th>3</th>\n",
       "      <td>-0.238130</td>\n",
       "    </tr>\n",
       "    <tr>\n",
       "      <th>4</th>\n",
       "      <td>-0.187940</td>\n",
       "    </tr>\n",
       "  </tbody>\n",
       "</table>\n",
       "</div>\n",
       "      <button class=\"colab-df-convert\" onclick=\"convertToInteractive('df-0ad09279-5e31-4c40-bc0e-5e7efe63a7da')\"\n",
       "              title=\"Convert this dataframe to an interactive table.\"\n",
       "              style=\"display:none;\">\n",
       "        \n",
       "  <svg xmlns=\"http://www.w3.org/2000/svg\" height=\"24px\"viewBox=\"0 0 24 24\"\n",
       "       width=\"24px\">\n",
       "    <path d=\"M0 0h24v24H0V0z\" fill=\"none\"/>\n",
       "    <path d=\"M18.56 5.44l.94 2.06.94-2.06 2.06-.94-2.06-.94-.94-2.06-.94 2.06-2.06.94zm-11 1L8.5 8.5l.94-2.06 2.06-.94-2.06-.94L8.5 2.5l-.94 2.06-2.06.94zm10 10l.94 2.06.94-2.06 2.06-.94-2.06-.94-.94-2.06-.94 2.06-2.06.94z\"/><path d=\"M17.41 7.96l-1.37-1.37c-.4-.4-.92-.59-1.43-.59-.52 0-1.04.2-1.43.59L10.3 9.45l-7.72 7.72c-.78.78-.78 2.05 0 2.83L4 21.41c.39.39.9.59 1.41.59.51 0 1.02-.2 1.41-.59l7.78-7.78 2.81-2.81c.8-.78.8-2.07 0-2.86zM5.41 20L4 18.59l7.72-7.72 1.47 1.35L5.41 20z\"/>\n",
       "  </svg>\n",
       "      </button>\n",
       "      \n",
       "  <style>\n",
       "    .colab-df-container {\n",
       "      display:flex;\n",
       "      flex-wrap:wrap;\n",
       "      gap: 12px;\n",
       "    }\n",
       "\n",
       "    .colab-df-convert {\n",
       "      background-color: #E8F0FE;\n",
       "      border: none;\n",
       "      border-radius: 50%;\n",
       "      cursor: pointer;\n",
       "      display: none;\n",
       "      fill: #1967D2;\n",
       "      height: 32px;\n",
       "      padding: 0 0 0 0;\n",
       "      width: 32px;\n",
       "    }\n",
       "\n",
       "    .colab-df-convert:hover {\n",
       "      background-color: #E2EBFA;\n",
       "      box-shadow: 0px 1px 2px rgba(60, 64, 67, 0.3), 0px 1px 3px 1px rgba(60, 64, 67, 0.15);\n",
       "      fill: #174EA6;\n",
       "    }\n",
       "\n",
       "    [theme=dark] .colab-df-convert {\n",
       "      background-color: #3B4455;\n",
       "      fill: #D2E3FC;\n",
       "    }\n",
       "\n",
       "    [theme=dark] .colab-df-convert:hover {\n",
       "      background-color: #434B5C;\n",
       "      box-shadow: 0px 1px 3px 1px rgba(0, 0, 0, 0.15);\n",
       "      filter: drop-shadow(0px 1px 2px rgba(0, 0, 0, 0.3));\n",
       "      fill: #FFFFFF;\n",
       "    }\n",
       "  </style>\n",
       "\n",
       "      <script>\n",
       "        const buttonEl =\n",
       "          document.querySelector('#df-0ad09279-5e31-4c40-bc0e-5e7efe63a7da button.colab-df-convert');\n",
       "        buttonEl.style.display =\n",
       "          google.colab.kernel.accessAllowed ? 'block' : 'none';\n",
       "\n",
       "        async function convertToInteractive(key) {\n",
       "          const element = document.querySelector('#df-0ad09279-5e31-4c40-bc0e-5e7efe63a7da');\n",
       "          const dataTable =\n",
       "            await google.colab.kernel.invokeFunction('convertToInteractive',\n",
       "                                                     [key], {});\n",
       "          if (!dataTable) return;\n",
       "\n",
       "          const docLinkHtml = 'Like what you see? Visit the ' +\n",
       "            '<a target=\"_blank\" href=https://colab.research.google.com/notebooks/data_table.ipynb>data table notebook</a>'\n",
       "            + ' to learn more about interactive tables.';\n",
       "          element.innerHTML = '';\n",
       "          dataTable['output_type'] = 'display_data';\n",
       "          await google.colab.output.renderOutput(dataTable, element);\n",
       "          const docLink = document.createElement('div');\n",
       "          docLink.innerHTML = docLinkHtml;\n",
       "          element.appendChild(docLink);\n",
       "        }\n",
       "      </script>\n",
       "    </div>\n",
       "  </div>\n",
       "  "
      ],
      "text/plain": [
       "        ret\n",
       "0 -0.530618\n",
       "1 -0.337587\n",
       "2 -0.246766\n",
       "3 -0.238130\n",
       "4 -0.187940"
      ]
     },
     "execution_count": 505,
     "metadata": {},
     "output_type": "execute_result"
    }
   ],
   "source": [
    "sorted_pnl = pd.DataFrame(pnl,columns = {'ret'}).sort_values(by =['ret'],ignore_index = True)\n",
    "sorted_pnl.head()\n"
   ]
  },
  {
   "cell_type": "code",
   "execution_count": 506,
   "metadata": {
    "id": "hrV5iWCYuK4d"
   },
   "outputs": [],
   "source": [
    "cvar = (sorted_pnl[sorted_pnl.index<39].sum()/39)[0]\n",
    "var =sorted_pnl.iloc[39][0]\n",
    "return_metrics = return_metrics.append({'strategy':'Mean Reversion ','mean':mean,'std':std,'Sharpe':sharpe,'maxdd':maxdd,'maxddd':maxddd,'VaR':var,'CVaR':cvar},ignore_index=True)"
   ]
  },
  {
   "cell_type": "code",
   "execution_count": 507,
   "metadata": {
    "colab": {
     "base_uri": "https://localhost:8080/",
     "height": 414
    },
    "id": "wdKfzjG_tjrZ",
    "outputId": "24483153-f5df-41d3-859e-7e9c8f584e7a"
   },
   "outputs": [
    {
     "name": "stdout",
     "output_type": "stream",
     "text": [
      "0.2390848720944517 0.4325969634952027 0.5526734865699144 -0.7430715939079662 186.0\n",
      "ret   -0.135113\n",
      "dtype: float64\n",
      "ret   -0.049615\n",
      "Name: 39, dtype: float64\n"
     ]
    },
    {
     "data": {
      "image/png": "[encoded data removed]",
      "text/plain": [
       "<Figure size 432x288 with 1 Axes>"
      ]
     },
     "metadata": {
      "needs_background": "light"
     },
     "output_type": "display_data"
    }
   ],
   "source": [
    "#mean reverse transaction cost\n",
    "mean,std,sharpe,pnl = mean_rev_transaction_cost(0.8,1,1*-0.2,104)\n",
    "cumret_meanreverse = pd.DataFrame(pnl+1).cumprod()\n",
    "maxdd,maxddd,t = calculateMaxDD(cumret_meanreverse) \n",
    "cumret_meanreverse['date'] = df.index\n",
    "cumret_meanreverse.set_index('date',inplace = True)\n",
    "cumret_meanreverse.columns = ['Mean Reversion Strategy with Transaction Cost']\n",
    "cumret_meanreverse.plot(rot = 90,ylabel = 'cummulative return',legend = 'PNL')\n",
    "sorted_pnl = pd.DataFrame(pnl,columns = {'ret'}).sort_values(by =['ret'],ignore_index = True)\n",
    "print(mean,std,sharpe,maxdd,maxddd)\n",
    "print(sorted_pnl[sorted_pnl.index<39].sum()/39) #cvar\n",
    "print(sorted_pnl.iloc[39])\n",
    "cvar = (sorted_pnl[sorted_pnl.index<39].sum()/39)[0]\n",
    "var =sorted_pnl.iloc[39][0]\n",
    "return_metrics = return_metrics.append({'strategy':'Mean Reversion with transaction cost ','mean':mean,'std':std,'Sharpe':sharpe,'maxdd':maxdd,'maxddd':maxddd,'VaR':var,'CVaR':cvar},ignore_index=True)"
   ]
  },
  {
   "cell_type": "code",
   "execution_count": 508,
   "metadata": {
    "colab": {
     "base_uri": "https://localhost:8080/",
     "height": 414
    },
    "id": "RntPCuVNSAa5",
    "outputId": "73ac7f8c-1179-47e0-b9ac-f40aa2113cc8"
   },
   "outputs": [
    {
     "name": "stdout",
     "output_type": "stream",
     "text": [
      "0.34604022686247965 0.6708748167988976 0.5158044663438442 -0.579881446478528 163.0\n",
      "ret   -0.172432\n",
      "dtype: float64\n",
      "ret   -0.116452\n",
      "Name: 39, dtype: float64\n"
     ]
    },
    {
     "data": {
      "image/png": "[encoded data removed]",
      "text/plain": [
       "<Figure size 432x288 with 1 Axes>"
      ]
     },
     "metadata": {
      "needs_background": "light"
     },
     "output_type": "display_data"
    }
   ],
   "source": [
    "#momentum\n",
    "mean,std,sharpe,pnl = momentum2(0.8,0.005,0.005*1.2,156)\n",
    "cumret_meanreverse = pd.DataFrame(pnl+1).cumprod()\n",
    "maxdd,maxddd,t = calculateMaxDD(cumret_meanreverse) \n",
    "cumret_meanreverse['date'] = df.index\n",
    "cumret_meanreverse.set_index('date',inplace = True)\n",
    "cumret_meanreverse.columns = ['Momentum Strategy']\n",
    "cumret_meanreverse.plot(rot = 90,ylabel = 'cummulative return',legend = 'PNL')\n",
    "sorted_pnl = pd.DataFrame(pnl,columns = {'ret'}).sort_values(by =['ret'],ignore_index = True)\n",
    "print(mean,std,sharpe,maxdd,maxddd)\n",
    "print(sorted_pnl[sorted_pnl.index<39].sum()/39) #cvar\n",
    "print(sorted_pnl.iloc[39])\n",
    "cvar = (sorted_pnl[sorted_pnl.index<39].sum()/39)[0]\n",
    "var =sorted_pnl.iloc[39][0]\n",
    "return_metrics = return_metrics.append({'strategy':'Momentum','mean':mean,'std':std,'Sharpe':sharpe,'maxdd':maxdd,'maxddd':maxddd,'VaR':var,'CVaR':cvar},ignore_index=True)"
   ]
  },
  {
   "cell_type": "code",
   "execution_count": 509,
   "metadata": {
    "colab": {
     "base_uri": "https://localhost:8080/",
     "height": 414
    },
    "id": "0nH515S8UKAq",
    "outputId": "eae59c1e-0deb-49e5-efa1-a70fca408ccc"
   },
   "outputs": [
    {
     "name": "stdout",
     "output_type": "stream",
     "text": [
      "0.3438651946874475 0.6709263241070104 0.5125230332035714 -0.5782009624306739 163.0\n",
      "ret   -0.172445\n",
      "dtype: float64\n",
      "ret   -0.118443\n",
      "Name: 39, dtype: float64\n"
     ]
    },
    {
     "data": {
      "image/png": "[encoded data removed]",
      "text/plain": [
       "<Figure size 432x288 with 1 Axes>"
      ]
     },
     "metadata": {
      "needs_background": "light"
     },
     "output_type": "display_data"
    }
   ],
   "source": [
    "#momentum cost\n",
    "mean,std,sharpe,pnl = momentum2_transaction_cost(0.8,0.005,0.005*1.2,156)\n",
    "cumret_meanreverse = pd.DataFrame(pnl+1).cumprod()\n",
    "maxdd,maxddd,t = calculateMaxDD(cumret_meanreverse) \n",
    "cumret_meanreverse['date'] = df.index\n",
    "cumret_meanreverse.set_index('date',inplace = True)\n",
    "cumret_meanreverse.columns = ['Momentum Strategy with Transaction Cost']\n",
    "cumret_meanreverse.plot(rot = 90,ylabel = 'cummulative return',legend = 'PNL')\n",
    "sorted_pnl = pd.DataFrame(pnl,columns = {'ret'}).sort_values(by =['ret'],ignore_index = True)\n",
    "print(mean,std,sharpe,maxdd,maxddd)\n",
    "print(sorted_pnl[sorted_pnl.index<39].sum()/39) #cvar\n",
    "print(sorted_pnl.iloc[39])\n",
    "cvar = (sorted_pnl[sorted_pnl.index<39].sum()/39)[0]\n",
    "var =sorted_pnl.iloc[39][0]\n",
    "return_metrics = return_metrics.append({'strategy':'Momentum with transaction cost ','mean':mean,'std':std,'Sharpe':sharpe,'maxdd':maxdd,'maxddd':maxddd,'VaR':var,'CVaR':cvar},ignore_index=True)"
   ]
  },
  {
   "cell_type": "code",
   "execution_count": 510,
   "metadata": {
    "id": "xWFgRZvcVcaz"
   },
   "outputs": [],
   "source": [
    "cdx = df['CDX IG 5Y SPREAD'].pct_change()"
   ]
  },
  {
   "cell_type": "code",
   "execution_count": 511,
   "metadata": {
    "colab": {
     "base_uri": "https://localhost:8080/",
     "height": 344
    },
    "id": "W-wedED0WVPu",
    "outputId": "463b4b8b-60ab-40b1-eb03-87b4ccac4b54"
   },
   "outputs": [
    {
     "data": {
      "text/plain": [
       "<matplotlib.axes._subplots.AxesSubplot at 0x7efeb50a5b10>"
      ]
     },
     "execution_count": 511,
     "metadata": {},
     "output_type": "execute_result"
    },
    {
     "data": {
      "image/png": "[encoded data removed]",
      "text/plain": [
       "<Figure size 432x288 with 1 Axes>"
      ]
     },
     "metadata": {
      "needs_background": "light"
     },
     "output_type": "display_data"
    }
   ],
   "source": [
    "cdx_ret = (cdx+1).cumprod()\n",
    "cdx_ret.plot(rot = 90,ylabel = 'cummulative return',legend = 'PNL')"
   ]
  },
  {
   "cell_type": "code",
   "execution_count": 523,
   "metadata": {
    "id": "ugoZTIPNWXa-"
   },
   "outputs": [],
   "source": [
    "mean = np.nanmean(cdx)*52\n",
    "std = np.nanstd(cdx)*np.sqrt(52)\n",
    "sharpe = mean/std*np.sqrt(52)\n",
    "maxdd,maxddd,t = calculateMaxDD(cdx_ret)\n",
    "sorted_pnl = pd.DataFrame(cdx.values,columns = {'ret'}).sort_values(by =['ret'],ignore_index = True)\n",
    "cvar = (sorted_pnl[sorted_pnl.index<39].sum()/39)[0]\n",
    "var =sorted_pnl.iloc[39][0]\n",
    "return_metrics = return_metrics.append({'strategy':'CDX IG ','mean':mean,'std':std,'Sharpe':sharpe,'maxdd':maxdd,'maxddd':maxddd,'VaR':var,'CVaR':cvar},ignore_index=True)"
   ]
  },
  {
   "cell_type": "code",
   "execution_count": 513,
   "metadata": {
    "colab": {
     "base_uri": "https://localhost:8080/"
    },
    "id": "Q_ObWRIhWsPL",
    "outputId": "c3bb24a3-0d99-4d81-97da-3efc05a1ecee"
   },
   "outputs": [
    {
     "name": "stdout",
     "output_type": "stream",
     "text": [
      "0.189064957844513 0.5659679330691876 2.4089117424202047 -0.7470261877383437 677.0\n"
     ]
    }
   ],
   "source": []
  },
  {
   "cell_type": "markdown",
   "metadata": {
    "id": "E5Ci2uPBdoAg"
   },
   "source": [
    "1a) We do need the volatiility to adjust the signals. For instance, in mean reversion strategy the signal is generated using the z-score of the spread to a threshold. The z-score is computed with the volatility of the spread, if the volatility is high we would receive smaller z-score and the trade-signal would be less frequent compare to small volatility given we have the same entry and exit thresholds for trading \n",
    "\n",
    "1b) For mean-reversion strategy, we enter a trade (either long or short the spread) when the absolute value of z-score is greater than the entrance threshold at time t and we exit the trade (position back to 0) when the absolute value of z-score is less than the exit threshold.\n",
    "\n",
    "As for momentum trade we compare the current spread with the rolling spread, if the rolling spread is greater than entrance threshold, we would long the spread given the believe that stock that performed well in the past will continue to outperform, and if the rolling spread is less than the negative of entrance threshold we would short the spread. We clear our position if the rolling spread excessed exit threshold percentage of return as we worry that it might mean reverse. \n",
    "\n",
    "c) The maximum adverse move of a momentum of the period where the strategy keeps revert back to the mean, and the maximum adverse move of a mean reversion model is when the spread keeps on gaining or keeps on losing. We use the maximum drawdown of the stategy to see the maximum adverse move of the stategies and use the maximum drawdown duration to see how long does it take for the stategy to go back to its high water mark position. "
   ]
  },
  {
   "cell_type": "code",
   "execution_count": 524,
   "metadata": {
    "colab": {
     "base_uri": "https://localhost:8080/",
     "height": 334
    },
    "id": "ZefcuY9ofbky",
    "outputId": "def87766-d72b-4656-a818-89e7fde30560"
   },
   "outputs": [
    {
     "data": {
      "text/html": [
       "\n",
       "  <div id=\"df-152eaf56-d198-4768-8e91-330193355cc9\">\n",
       "    <div class=\"colab-df-container\">\n",
       "      <div>\n",
       "<style scoped>\n",
       "    .dataframe tbody tr th:only-of-type {\n",
       "        vertical-align: middle;\n",
       "    }\n",
       "\n",
       "    .dataframe tbody tr th {\n",
       "        vertical-align: top;\n",
       "    }\n",
       "\n",
       "    .dataframe thead th {\n",
       "        text-align: right;\n",
       "    }\n",
       "</style>\n",
       "<table border=\"1\" class=\"dataframe\">\n",
       "  <thead>\n",
       "    <tr style=\"text-align: right;\">\n",
       "      <th></th>\n",
       "      <th>std</th>\n",
       "      <th>maxdd</th>\n",
       "      <th>maxddd</th>\n",
       "      <th>CVaR</th>\n",
       "      <th>strategy</th>\n",
       "      <th>mean</th>\n",
       "      <th>VaR</th>\n",
       "      <th>Sharpe</th>\n",
       "    </tr>\n",
       "  </thead>\n",
       "  <tbody>\n",
       "    <tr>\n",
       "      <th>0</th>\n",
       "      <td>0.376201</td>\n",
       "      <td>-0.441564</td>\n",
       "      <td>144.0</td>\n",
       "      <td>-0.118182</td>\n",
       "      <td>Mean Reversion</td>\n",
       "      <td>0.257475</td>\n",
       "      <td>-0.050695</td>\n",
       "      <td>0.684410</td>\n",
       "    </tr>\n",
       "    <tr>\n",
       "      <th>1</th>\n",
       "      <td>0.432597</td>\n",
       "      <td>-0.743072</td>\n",
       "      <td>186.0</td>\n",
       "      <td>-0.135113</td>\n",
       "      <td>Mean Reversion with transaction cost</td>\n",
       "      <td>0.239085</td>\n",
       "      <td>-0.0496154</td>\n",
       "      <td>0.552673</td>\n",
       "    </tr>\n",
       "    <tr>\n",
       "      <th>2</th>\n",
       "      <td>0.670875</td>\n",
       "      <td>-0.579881</td>\n",
       "      <td>163.0</td>\n",
       "      <td>-0.172432</td>\n",
       "      <td>Momentum</td>\n",
       "      <td>0.346040</td>\n",
       "      <td>-0.116452</td>\n",
       "      <td>0.515804</td>\n",
       "    </tr>\n",
       "    <tr>\n",
       "      <th>3</th>\n",
       "      <td>0.670926</td>\n",
       "      <td>-0.578201</td>\n",
       "      <td>163.0</td>\n",
       "      <td>-0.172445</td>\n",
       "      <td>Momentum with transaction cost</td>\n",
       "      <td>0.343865</td>\n",
       "      <td>-0.118443</td>\n",
       "      <td>0.512523</td>\n",
       "    </tr>\n",
       "    <tr>\n",
       "      <th>4</th>\n",
       "      <td>0.565968</td>\n",
       "      <td>-0.747026</td>\n",
       "      <td>677.0</td>\n",
       "      <td>-0.146492</td>\n",
       "      <td>CDX IG</td>\n",
       "      <td>0.189065</td>\n",
       "      <td>ret   -0.101114\n",
       "Name: 39, dtype: float64</td>\n",
       "      <td>2.408912</td>\n",
       "    </tr>\n",
       "    <tr>\n",
       "      <th>5</th>\n",
       "      <td>0.565968</td>\n",
       "      <td>-0.747026</td>\n",
       "      <td>677.0</td>\n",
       "      <td>-0.146492</td>\n",
       "      <td>CDX IG</td>\n",
       "      <td>0.189065</td>\n",
       "      <td>-0.101114</td>\n",
       "      <td>2.408912</td>\n",
       "    </tr>\n",
       "  </tbody>\n",
       "</table>\n",
       "</div>\n",
       "      <button class=\"colab-df-convert\" onclick=\"convertToInteractive('df-152eaf56-d198-4768-8e91-330193355cc9')\"\n",
       "              title=\"Convert this dataframe to an interactive table.\"\n",
       "              style=\"display:none;\">\n",
       "        \n",
       "  <svg xmlns=\"http://www.w3.org/2000/svg\" height=\"24px\"viewBox=\"0 0 24 24\"\n",
       "       width=\"24px\">\n",
       "    <path d=\"M0 0h24v24H0V0z\" fill=\"none\"/>\n",
       "    <path d=\"M18.56 5.44l.94 2.06.94-2.06 2.06-.94-2.06-.94-.94-2.06-.94 2.06-2.06.94zm-11 1L8.5 8.5l.94-2.06 2.06-.94-2.06-.94L8.5 2.5l-.94 2.06-2.06.94zm10 10l.94 2.06.94-2.06 2.06-.94-2.06-.94-.94-2.06-.94 2.06-2.06.94z\"/><path d=\"M17.41 7.96l-1.37-1.37c-.4-.4-.92-.59-1.43-.59-.52 0-1.04.2-1.43.59L10.3 9.45l-7.72 7.72c-.78.78-.78 2.05 0 2.83L4 21.41c.39.39.9.59 1.41.59.51 0 1.02-.2 1.41-.59l7.78-7.78 2.81-2.81c.8-.78.8-2.07 0-2.86zM5.41 20L4 18.59l7.72-7.72 1.47 1.35L5.41 20z\"/>\n",
       "  </svg>\n",
       "      </button>\n",
       "      \n",
       "  <style>\n",
       "    .colab-df-container {\n",
       "      display:flex;\n",
       "      flex-wrap:wrap;\n",
       "      gap: 12px;\n",
       "    }\n",
       "\n",
       "    .colab-df-convert {\n",
       "      background-color: #E8F0FE;\n",
       "      border: none;\n",
       "      border-radius: 50%;\n",
       "      cursor: pointer;\n",
       "      display: none;\n",
       "      fill: #1967D2;\n",
       "      height: 32px;\n",
       "      padding: 0 0 0 0;\n",
       "      width: 32px;\n",
       "    }\n",
       "\n",
       "    .colab-df-convert:hover {\n",
       "      background-color: #E2EBFA;\n",
       "      box-shadow: 0px 1px 2px rgba(60, 64, 67, 0.3), 0px 1px 3px 1px rgba(60, 64, 67, 0.15);\n",
       "      fill: #174EA6;\n",
       "    }\n",
       "\n",
       "    [theme=dark] .colab-df-convert {\n",
       "      background-color: #3B4455;\n",
       "      fill: #D2E3FC;\n",
       "    }\n",
       "\n",
       "    [theme=dark] .colab-df-convert:hover {\n",
       "      background-color: #434B5C;\n",
       "      box-shadow: 0px 1px 3px 1px rgba(0, 0, 0, 0.15);\n",
       "      filter: drop-shadow(0px 1px 2px rgba(0, 0, 0, 0.3));\n",
       "      fill: #FFFFFF;\n",
       "    }\n",
       "  </style>\n",
       "\n",
       "      <script>\n",
       "        const buttonEl =\n",
       "          document.querySelector('#df-152eaf56-d198-4768-8e91-330193355cc9 button.colab-df-convert');\n",
       "        buttonEl.style.display =\n",
       "          google.colab.kernel.accessAllowed ? 'block' : 'none';\n",
       "\n",
       "        async function convertToInteractive(key) {\n",
       "          const element = document.querySelector('#df-152eaf56-d198-4768-8e91-330193355cc9');\n",
       "          const dataTable =\n",
       "            await google.colab.kernel.invokeFunction('convertToInteractive',\n",
       "                                                     [key], {});\n",
       "          if (!dataTable) return;\n",
       "\n",
       "          const docLinkHtml = 'Like what you see? Visit the ' +\n",
       "            '<a target=\"_blank\" href=https://colab.research.google.com/notebooks/data_table.ipynb>data table notebook</a>'\n",
       "            + ' to learn more about interactive tables.';\n",
       "          element.innerHTML = '';\n",
       "          dataTable['output_type'] = 'display_data';\n",
       "          await google.colab.output.renderOutput(dataTable, element);\n",
       "          const docLink = document.createElement('div');\n",
       "          docLink.innerHTML = docLinkHtml;\n",
       "          element.appendChild(docLink);\n",
       "        }\n",
       "      </script>\n",
       "    </div>\n",
       "  </div>\n",
       "  "
      ],
      "text/plain": [
       "        std     maxdd  ...                                       VaR    Sharpe\n",
       "0  0.376201 -0.441564  ...                                 -0.050695  0.684410\n",
       "1  0.432597 -0.743072  ...                                -0.0496154  0.552673\n",
       "2  0.670875 -0.579881  ...                                 -0.116452  0.515804\n",
       "3  0.670926 -0.578201  ...                                 -0.118443  0.512523\n",
       "4  0.565968 -0.747026  ...  ret   -0.101114\n",
       "Name: 39, dtype: float64  2.408912\n",
       "5  0.565968 -0.747026  ...                                 -0.101114  2.408912\n",
       "\n",
       "[6 rows x 8 columns]"
      ]
     },
     "execution_count": 524,
     "metadata": {},
     "output_type": "execute_result"
    }
   ],
   "source": [
    "return_metrics"
   ]
  },
  {
   "cell_type": "markdown",
   "metadata": {
    "id": "NG-thdyxtXsi"
   },
   "source": [
    "1d) The analytics I choose for each model is the standard devation, mean, Sharpe ratio, maximum drawdown, maximum drawdown duration, 5% weekly VaR and 5% weekly CVaR, and the results for each strategy is demonstrated in the table above. Mean, standard deviation and Sharpe ratio are the standard evaluation metrics for a strategy, it allows us to see the return along with the risks that is associated with the return. Sharpe ratio gives us excess return per unit risk, and our goal for trading strategies is to maximize the Sharpe ratio. All the other metrics are used for risk control, as it is essential for any financial firms. Maximum Drawdown and Maximum Drawdown duration tells us what is the maximum loss from historical high watermark, and how long does it take to recover to the high watermark. If our risk appetite is small and we do not wish to lose the amount indicated in maximum drawdown, then the stategy is not suitable. 5% Weekly VaR and 5% Weekly CVaR gives us the worst case scenarios that there are 5% chance in a week, we could lose more than VaR amount of return, and if we have incurred a loss that is greater than VaR amount of return, the expected average loss is the CVaR amount. Those two are also good risk indicators for the risk control of the strategy as there would be a threshold we can not exceed. \n",
    "\n",
    "1e) please see the attached powerpoint slide \n",
    "\n",
    "1f) please see the analytics in the table above, we see that for mean reversion strategy, the transaction costs impacted our strategy return more severe than momentum strategy. We changed our entrance threshold from 0.8 to 1 for the most optimal trading parameters and changed the lookback period from 8 weeks to 104 weeks, all of the adjustments is to reduce trading frequency and thus minimize the impact from transaction costs. By tightening the threshold, we are missing the opportunity to gain from small mean reversion spread to compensate for the high transaction cost. The trading signal would be less frequent, for transactions that lead to less than 0.25% of return will be ignored. On the other hand, momentum strategy does not seem to be impacted much as in the strategy the trading was infrequent to start with and the cost diminishes with higher mean return. \n",
    "\n",
    "One way to reduce the transaction cost drag on the strategy is to increase the rebalancing period, instead of weekly rebalancing, we could monthly rebalance our strategy, however this could lead to missing of trading signals. Another way is to set the entrance/exit threshold tighter like in the mean reversion case, this would also reduce the number of transaction needed. "
   ]
  },
  {
   "cell_type": "code",
   "execution_count": null,
   "metadata": {
    "id": "1fs8wk0kwyTN"
   },
   "outputs": [],
   "source": []
  }
 ],
 "metadata": {
  "colab": {
   "collapsed_sections": [],
   "name": "Case Study Q1",
   "provenance": []
  },
  "kernelspec": {
   "display_name": "Python 3 (ipykernel)",
   "language": "python",
   "name": "python3"
  },
  "language_info": {
   "codemirror_mode": {
    "name": "ipython",
    "version": 3
   },
   "file_extension": ".py",
   "mimetype": "text/x-python",
   "name": "python",
   "nbconvert_exporter": "python",
   "pygments_lexer": "ipython3",
   "version": "3.9.7"
  }
 },
 "nbformat": 4,
 "nbformat_minor": 1
}
