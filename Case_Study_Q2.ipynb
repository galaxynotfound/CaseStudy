{
  "nbformat": 4,
  "nbformat_minor": 0,
  "metadata": {
    "colab": {
      "name": "Case Study Q2",
      "provenance": []
    },
    "kernelspec": {
      "name": "python3",
      "display_name": "Python 3"
    },
    "language_info": {
      "name": "python"
    }
  },
  "cells": [
    {
      "cell_type": "markdown",
      "source": [
        "2.\tFama and French kicked off factor investing in equities with their size of firm, book-to-market, and excess market return factors. Carhart added a momentum factor. You are investigating using factor investing for credit. You have the historical financial statements data, with a quarterly frequency, for 1000 corporates. These 1000 corporates have 3000 bonds outstanding. Propose the initial design of a model to trade the 3000 bonds. Do not implement the model. \n",
        "\n"
      ],
      "metadata": {
        "id": "TmtKgyhrrJp7"
      }
    },
    {
      "cell_type": "markdown",
      "source": [
        "We can trade the bonds base on various factors, for instance, choose one bond with the highest liquidity from each corporates that represents the corporate and use momentum strategy to break the corporate bonds in to different quantile based on credit rating and historical spread. We would long the top quantile with highest historical performance and short the quantile with the lowest historical returns, the actual trade parameter will be optimized based on test and training set of the model return "
      ],
      "metadata": {
        "id": "UYsn9lj0rRuz"
      }
    },
    {
      "cell_type": "markdown",
      "source": [
        "a)\tDo you think factor investing can be applied to credit / the 3000 bonds? What challenges do you anticipate?"
      ],
      "metadata": {
        "id": "I4_IWSPDryVK"
      }
    },
    {
      "cell_type": "markdown",
      "source": [
        "I do believe factor investing can be applied to credit/ the 3000 bonds, since there is a strong positive relationship between past stock returns of an issuer and subsequent excess returns of its corporate bonds, many of the factors used in stock return prediction can also be used in the credit universe after modification\n",
        "\n",
        "There will be many challenges in investing in corporate bonds in comparison to stocks because implementing quantitative strategies in credit portfolio entails unique challenges.\n",
        "- Sturcturing portfolio based on systematic factor is more complex in corporate bonds than in stock, since corporate bond returns even within the same market vary accordingly to credit quality and duration, there are many more dimensions to credit investing \n",
        "- Debts are fundamentally mess, opaque and trades mostly on the phone than on the exchange, bond level historical data required to obtain and validate returns of factor portfolios is not always publicly available. However with the electronic corporate bond trading starting to gain popularity in the past 2 year, about 30% of investment grade corporate bonds are now traded on exchange with more transparent data with official closing price \n",
        "- Bond from the same issuer has different senority and maturity, the individual, idiosyncratic bond price are affected not only by the company's fundamentals but also by the broader flow of the macro-economics fundamentals, this makes it harder to predict bond returns \n",
        "-At the same time, it is necessary to remove the rates component from bond yields in order to isolate the credit element which could be difficult\n",
        "- Implementing realistic factor portfolio is likely to require turnover controls aas well as reliable ways to measure transaction costs, given the illiquidity of corporate bonds the transaction costs are relatively high so it is more difficult to obtain excess returns realistically "
      ],
      "metadata": {
        "id": "wHLHMSiesA-i"
      }
    },
    {
      "cell_type": "markdown",
      "source": [
        "b)\tSuggest some factors that you would start your investigation with, similar to SMB, HML, Rm-Rf and Momentum in Fama French Carhart models but for credit. (For one suggested factor: During interviews, discretionary credit managers often describe Debt / EBITDA as one important ratio to consider in their investment decisions). Describe the process to research whether this factor and your other factors work to predict returns."
      ],
      "metadata": {
        "id": "fMUUN3p6r-6S"
      }
    },
    {
      "cell_type": "markdown",
      "source": [
        "Some credit factor I would start my investigation would be Momentum factor, spread per debt-to-earning ratio (value factor), cds spread, exposure at default etc. Since the performance of a company's stock return is positively correlatied with debt's return, and the same company fundamentals would still apply to the bond return, many fundamental ratios can also be investigated for credit. \n",
        "\n",
        "Once the factor is choosen depends on the type of factor we obtain factor exposures and factor returns \n",
        "- time series factor (momentum), create a portfolio which longs bonds with high momentum and short bonds with low momentum, the porfolio return is the factor return. We would then regress individual bond to the factor return to obtain the factor exposure for individual bonds and assume the exposure would be constant for the current period. \n",
        "\n",
        "- cross-sectional factor (value), the factor exposures are usually given from the quarterly financial statements, we need to regress the factor exposures of 3000 bonds to the bond return in order to obtain the factor return.\n",
        "\n",
        "Once we have factor exposure and factor returns we can test the factor return to see if the return persists in the future using metrics such as information ratio, mean and volatility of return and compare it with CDX IG and CDX HY indexes to check if the excess return is persistent in different market enviornment. We also need to make sure there is economic reasoning behind the factor what might be driving the factor return that we are choosing, instead of just data mining to avoid overfitting issues.\n",
        "\n"
      ],
      "metadata": {
        "id": "uEau4z0YycWA"
      }
    },
    {
      "cell_type": "markdown",
      "source": [
        "Example using Spread per unit of debt-to-earning-ratio (SPiDer):\n",
        "\n",
        "Emprical evidence shows that undervalues stocks indded outperforms the overvalued ones in United States based on various value measures such as book-to-market, earnings-to-price, divident-to-price etc. We want to test if the same logical can be applied to the credit market and use spread per unit of debt-to-earning ratio as the Value factor \n",
        "\n",
        "It is the ratio between the market price and the\n",
        "fundamental measure of an issuer’s default risk. The market price of default\n",
        "risk is captured by credit spreads, which represent the compensation\n",
        "demanded by investors for bearing the possible default loss. The fundamental measure of risk is reflected by the issuer’s inability to repay its debt, more\n",
        "specifically, the issuer’s debt level over its long-term earnings. Intuitively, a\n",
        "higher debt-to-earnings ratio means that the issuer’s earnings power is relatively low compared to its debt level, increasing the likelihood of defaults.\n",
        "High-SPiDER issuers, in which investors demand higher compensation after\n",
        "controlling for issuers’ payment ability, are therefore undervalued. In contrast, low-SPiDER issuers are overvalued because of the relatively low compensation commanded by investors.\n",
        "\n",
        "for 3000 bonds we would pick the most liquid bond from each corporate as representation of company's fundamentals. Then cross-sectional regression using SPiDER against bond spread is used to determine the fiar market spread. We can look at the t-statistics and R^2 to preliminary check if the factor is indeed statistical significant and can explain part of bond return (usually R^2 ~30% would indicate a good model) \n",
        "\n",
        "We need to then find whether SPiDER has strong predictability in bond returns, in particular we need to check if the bond return can be explained by other factor such as risk compensations or carry differences and whether SPiDER is robust across all credit ratings and industries. \n",
        "\n",
        "We can verify if D/E ratio captures risk beyong rating to verify that D/E ratio indeed measures fundamental risks, therefore we can see if D/E ratio predicts future changes in credit ratings. \n",
        "\n",
        "After verification we formally test the predictability of the factor by constructing quantile portfolios by ranking Corporates based on their SPiDER within industry at the end of each month, all 1000 coporates will be equally weighted at the portfolio formation and are helded until next year irrespective of rating changes during the period. A value strategy is then formulated by buying corporate bonds from issuers in the top quintile (highest SPiDER ratios) and shorting those in the bottom quntile (lowest SPiDER ratios). We would expect to see that the strategy returns is significantly positive. We can then use the evaluation metrics such as Maximum Drawdown, information ratio, volatility and return to compare with benchmark and decide if the SPiDER factor is truly predictive.\n",
        "\n",
        "Finally we can adjust the portfolio to consider for more realistic market conditions such as incorporate transaction costs and other practicle constraints (if one bond of the corporate is illiquid, we can choose to buy the other ones from the same corporate) to determine if the adjusted strategy still outperforms benchmark in both IG and HY. \n"
      ],
      "metadata": {
        "id": "HJowxfGg459N"
      }
    },
    {
      "cell_type": "code",
      "source": [
        ""
      ],
      "metadata": {
        "id": "kAkl1VOF7usV"
      },
      "execution_count": null,
      "outputs": []
    }
  ]
}